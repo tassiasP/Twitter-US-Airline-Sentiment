{
 "cells": [
  {
   "cell_type": "markdown",
   "metadata": {
    "id": "T-ZoQT-s1bVX"
   },
   "source": [
    "# Data Preprocessing"
   ]
  },
  {
   "cell_type": "code",
   "execution_count": null,
   "metadata": {
    "colab": {
     "base_uri": "https://localhost:8080/",
     "height": 581
    },
    "id": "Irc6YoWX61NN",
    "outputId": "ec67a971-b8b8-4bff-ca7f-407f4373d284"
   },
   "outputs": [
    {
     "name": "stdout",
     "output_type": "stream",
     "text": [
      "[nltk_data] Downloading package wordnet to /root/nltk_data...\n",
      "[nltk_data]   Unzipping corpora/wordnet.zip.\n",
      "[nltk_data] Downloading package punkt to /root/nltk_data...\n",
      "[nltk_data]   Unzipping tokenizers/punkt.zip.\n",
      "[nltk_data] Downloading package stopwords to /root/nltk_data...\n",
      "[nltk_data]   Unzipping corpora/stopwords.zip.\n"
     ]
    },
    {
     "data": {
      "text/html": [
       "<div>\n",
       "<style scoped>\n",
       "    .dataframe tbody tr th:only-of-type {\n",
       "        vertical-align: middle;\n",
       "    }\n",
       "\n",
       "    .dataframe tbody tr th {\n",
       "        vertical-align: top;\n",
       "    }\n",
       "\n",
       "    .dataframe thead th {\n",
       "        text-align: right;\n",
       "    }\n",
       "</style>\n",
       "<table border=\"1\" class=\"dataframe\">\n",
       "  <thead>\n",
       "    <tr style=\"text-align: right;\">\n",
       "      <th></th>\n",
       "      <th>tweet_id</th>\n",
       "      <th>airline_sentiment</th>\n",
       "      <th>airline_sentiment_confidence</th>\n",
       "      <th>negativereason</th>\n",
       "      <th>negativereason_confidence</th>\n",
       "      <th>airline</th>\n",
       "      <th>airline_sentiment_gold</th>\n",
       "      <th>name</th>\n",
       "      <th>negativereason_gold</th>\n",
       "      <th>retweet_count</th>\n",
       "      <th>text</th>\n",
       "      <th>tweet_coord</th>\n",
       "      <th>tweet_created</th>\n",
       "      <th>tweet_location</th>\n",
       "      <th>user_timezone</th>\n",
       "    </tr>\n",
       "  </thead>\n",
       "  <tbody>\n",
       "    <tr>\n",
       "      <th>4057</th>\n",
       "      <td>567847753277120512</td>\n",
       "      <td>positive</td>\n",
       "      <td>1.000</td>\n",
       "      <td>NaN</td>\n",
       "      <td>NaN</td>\n",
       "      <td>United</td>\n",
       "      <td>NaN</td>\n",
       "      <td>dudleywright</td>\n",
       "      <td>NaN</td>\n",
       "      <td>0</td>\n",
       "      <td>@united thanks for not getting my BusinessFirs...</td>\n",
       "      <td>NaN</td>\n",
       "      <td>2015-02-17 16:47:09 -0800</td>\n",
       "      <td>Johnstown, Ohio</td>\n",
       "      <td>Quito</td>\n",
       "    </tr>\n",
       "    <tr>\n",
       "      <th>9493</th>\n",
       "      <td>569907782108839938</td>\n",
       "      <td>negative</td>\n",
       "      <td>0.967</td>\n",
       "      <td>Can't Tell</td>\n",
       "      <td>0.8042</td>\n",
       "      <td>US Airways</td>\n",
       "      <td>negative</td>\n",
       "      <td>mydulcebella</td>\n",
       "      <td>Can't Tell</td>\n",
       "      <td>1</td>\n",
       "      <td>@USAirways / @AmericanAir don't forget without...</td>\n",
       "      <td>NaN</td>\n",
       "      <td>2015-02-23 09:12:58 -0800</td>\n",
       "      <td>Pennsylvania</td>\n",
       "      <td>Eastern Time (US &amp; Canada)</td>\n",
       "    </tr>\n",
       "    <tr>\n",
       "      <th>6480</th>\n",
       "      <td>567823996852428801</td>\n",
       "      <td>negative</td>\n",
       "      <td>1.000</td>\n",
       "      <td>Customer Service Issue</td>\n",
       "      <td>0.3653</td>\n",
       "      <td>Southwest</td>\n",
       "      <td>NaN</td>\n",
       "      <td>pjta22one</td>\n",
       "      <td>NaN</td>\n",
       "      <td>0</td>\n",
       "      <td>@SouthwestAir stop ur bs promos of ✈️anywhere ...</td>\n",
       "      <td>NaN</td>\n",
       "      <td>2015-02-17 15:12:45 -0800</td>\n",
       "      <td>NaN</td>\n",
       "      <td>NaN</td>\n",
       "    </tr>\n",
       "    <tr>\n",
       "      <th>841</th>\n",
       "      <td>570055700790931456</td>\n",
       "      <td>negative</td>\n",
       "      <td>1.000</td>\n",
       "      <td>Customer Service Issue</td>\n",
       "      <td>0.6667</td>\n",
       "      <td>United</td>\n",
       "      <td>NaN</td>\n",
       "      <td>JeffPKirkland</td>\n",
       "      <td>NaN</td>\n",
       "      <td>0</td>\n",
       "      <td>@united computers are down but you stopped giv...</td>\n",
       "      <td>NaN</td>\n",
       "      <td>2015-02-23 19:00:44 -0800</td>\n",
       "      <td>Oregon</td>\n",
       "      <td>Pacific Time (US &amp; Canada)</td>\n",
       "    </tr>\n",
       "    <tr>\n",
       "      <th>11265</th>\n",
       "      <td>568258075431477248</td>\n",
       "      <td>negative</td>\n",
       "      <td>1.000</td>\n",
       "      <td>Customer Service Issue</td>\n",
       "      <td>1.0000</td>\n",
       "      <td>US Airways</td>\n",
       "      <td>NaN</td>\n",
       "      <td>tannapistolis</td>\n",
       "      <td>NaN</td>\n",
       "      <td>0</td>\n",
       "      <td>@USAirways worst customer service. Still not p...</td>\n",
       "      <td>NaN</td>\n",
       "      <td>2015-02-18 19:57:37 -0800</td>\n",
       "      <td>NaN</td>\n",
       "      <td>Eastern Time (US &amp; Canada)</td>\n",
       "    </tr>\n",
       "  </tbody>\n",
       "</table>\n",
       "</div>"
      ],
      "text/plain": [
       "                 tweet_id  ...               user_timezone\n",
       "4057   567847753277120512  ...                       Quito\n",
       "9493   569907782108839938  ...  Eastern Time (US & Canada)\n",
       "6480   567823996852428801  ...                         NaN\n",
       "841    570055700790931456  ...  Pacific Time (US & Canada)\n",
       "11265  568258075431477248  ...  Eastern Time (US & Canada)\n",
       "\n",
       "[5 rows x 15 columns]"
      ]
     },
     "execution_count": 1,
     "metadata": {
      "tags": []
     },
     "output_type": "execute_result"
    }
   ],
   "source": [
    "import pandas as pd\n",
    "import re\n",
    "\n",
    "import nltk\n",
    "nltk.download('wordnet')\n",
    "nltk.download('punkt')\n",
    "nltk.download('stopwords')\n",
    "from nltk.corpus import stopwords\n",
    "from nltk import word_tokenize\n",
    "from nltk.stem.porter import PorterStemmer\n",
    "from nltk.stem import WordNetLemmatizer\n",
    "from nltk.corpus import stopwords\n",
    "import numpy as np\n",
    "import matplotlib.pyplot as plt\n",
    "from matplotlib.lines import Line2D\n",
    "import seaborn as sns\n",
    "from matplotlib import pyplot as plt\n",
    "sns.set(palette='deep', color_codes=True, font_scale=1.3)\n",
    "\n",
    "from string import punctuation\n",
    "\n",
    "df = pd.read_csv(\"https://raw.githubusercontent.com/tassiasP/text_analytics_airline/main/Tweets.csv\")\n",
    "df.sample(10).head()"
   ]
  },
  {
   "cell_type": "markdown",
   "metadata": {
    "id": "isf6kkf7rWvP"
   },
   "source": [
    "After downloading the dataset, we clean the tweets from numbers, mentions, punctuation etc."
   ]
  },
  {
   "cell_type": "code",
   "execution_count": null,
   "metadata": {
    "id": "Bd3oi9qdXsRF"
   },
   "outputs": [],
   "source": [
    "def clean_text(text):\n",
    "    #match http, s is optional, :// one slash is optional and everything that is not a whitespace\n",
    "    hyperlinks = re.compile(r'https?://?[\\S]*')\n",
    "    text = re.sub(hyperlinks,'',text)\n",
    "    \n",
    "    #match RT and remove, because of retweets\n",
    "    retweets = re.compile(r'RT')\n",
    "    text = re.sub(retweets,'',text)\n",
    "\n",
    "    #finding @ and match everything that is in [a-zA-Z0-9_]. this will include mentions without a separating space\n",
    "    mentions = re.compile(r'@\\w*')\n",
    "    text = re.sub(mentions,'',text)\n",
    "    \n",
    "    #remove new line characters\n",
    "    newline = re.compile(r'\\n')\n",
    "    text = re.sub(newline,'',text)\n",
    "\n",
    "    #remove apostrophes    \n",
    "    apostroph = re.compile(\"'\")\n",
    "    text = re.sub(apostroph,' ',text)\n",
    "    \n",
    "    #remove single characters\n",
    "    single_chars = re.compile(r'\\s+[a-zA-Z]\\s+')\n",
    "    text = re.sub(single_chars, ' ', text)\n",
    "    \n",
    "    # punctuation = re.compile(r'[\\W]')\n",
    "    text = re.sub(f\"[{punctuation}]\",' ',text)\n",
    "    \n",
    "    # Substituting multiple spaces with single space\n",
    "    text = re.sub(r'\\s+', ' ', text, flags=re.I)\n",
    "\n",
    "    text = text.lower()\n",
    "    \n",
    "    return text"
   ]
  },
  {
   "cell_type": "markdown",
   "metadata": {
    "id": "uF91U6CBL23S"
   },
   "source": [
    "Then we tokenize the text, find the stems for each word and recostruct it, since TfIdf uses a text as a whole."
   ]
  },
  {
   "cell_type": "code",
   "execution_count": null,
   "metadata": {
    "id": "HyrMdN3rM86E"
   },
   "outputs": [],
   "source": [
    "df['cleaned_text'] = df.text.apply(clean_text)\n",
    "df['tokenized_text'] = df.cleaned_text.apply(word_tokenize)\n",
    "\n",
    "stemmer = PorterStemmer()\n",
    "df['stemmed_text'] = df.tokenized_text.apply(lambda sent: [stemmer.stem(word) for word in sent])\n",
    "\n",
    "df['reconstructed_text'] = df.stemmed_text.apply(lambda sent: ' '.join(word for word in sent))\n",
    "\n",
    "# lemmatizer = WordNetLemmatizer()\n",
    "# df['lemmatized_text'] = df.tokenized_text.apply(lambda sent: [lemmatizer.lemmatize(word) for word in sent])"
   ]
  },
  {
   "cell_type": "code",
   "execution_count": null,
   "metadata": {
    "colab": {
     "base_uri": "https://localhost:8080/",
     "height": 204
    },
    "id": "i77RJ-nIM88x",
    "outputId": "d2267a23-b760-4e00-a209-892f9f331a82"
   },
   "outputs": [
    {
     "data": {
      "text/html": [
       "<div>\n",
       "<style scoped>\n",
       "    .dataframe tbody tr th:only-of-type {\n",
       "        vertical-align: middle;\n",
       "    }\n",
       "\n",
       "    .dataframe tbody tr th {\n",
       "        vertical-align: top;\n",
       "    }\n",
       "\n",
       "    .dataframe thead th {\n",
       "        text-align: right;\n",
       "    }\n",
       "</style>\n",
       "<table border=\"1\" class=\"dataframe\">\n",
       "  <thead>\n",
       "    <tr style=\"text-align: right;\">\n",
       "      <th></th>\n",
       "      <th>text</th>\n",
       "      <th>cleaned_text</th>\n",
       "      <th>stemmed_text</th>\n",
       "      <th>reconstructed_text</th>\n",
       "    </tr>\n",
       "  </thead>\n",
       "  <tbody>\n",
       "    <tr>\n",
       "      <th>0</th>\n",
       "      <td>@VirginAmerica What @dhepburn said.</td>\n",
       "      <td>what said</td>\n",
       "      <td>[what, said]</td>\n",
       "      <td>what said</td>\n",
       "    </tr>\n",
       "    <tr>\n",
       "      <th>1</th>\n",
       "      <td>@VirginAmerica plus you've added commercials t...</td>\n",
       "      <td>plus you ve added commercials to the experien...</td>\n",
       "      <td>[plu, you, ve, ad, commerci, to, the, experi, ...</td>\n",
       "      <td>plu you ve ad commerci to the experi tacki</td>\n",
       "    </tr>\n",
       "    <tr>\n",
       "      <th>2</th>\n",
       "      <td>@VirginAmerica I didn't today... Must mean I n...</td>\n",
       "      <td>didn today must mean need to take another trip</td>\n",
       "      <td>[didn, today, must, mean, need, to, take, anot...</td>\n",
       "      <td>didn today must mean need to take anoth trip</td>\n",
       "    </tr>\n",
       "    <tr>\n",
       "      <th>3</th>\n",
       "      <td>@VirginAmerica it's really aggressive to blast...</td>\n",
       "      <td>it really aggressive to blast obnoxious enter...</td>\n",
       "      <td>[it, realli, aggress, to, blast, obnoxi, enter...</td>\n",
       "      <td>it realli aggress to blast obnoxi entertain in...</td>\n",
       "    </tr>\n",
       "    <tr>\n",
       "      <th>4</th>\n",
       "      <td>@VirginAmerica and it's a really big bad thing...</td>\n",
       "      <td>and it a really big bad thing about it</td>\n",
       "      <td>[and, it, a, realli, big, bad, thing, about, it]</td>\n",
       "      <td>and it a realli big bad thing about it</td>\n",
       "    </tr>\n",
       "  </tbody>\n",
       "</table>\n",
       "</div>"
      ],
      "text/plain": [
       "                                                text  ...                                 reconstructed_text\n",
       "0                @VirginAmerica What @dhepburn said.  ...                                          what said\n",
       "1  @VirginAmerica plus you've added commercials t...  ...         plu you ve ad commerci to the experi tacki\n",
       "2  @VirginAmerica I didn't today... Must mean I n...  ...       didn today must mean need to take anoth trip\n",
       "3  @VirginAmerica it's really aggressive to blast...  ...  it realli aggress to blast obnoxi entertain in...\n",
       "4  @VirginAmerica and it's a really big bad thing...  ...             and it a realli big bad thing about it\n",
       "\n",
       "[5 rows x 4 columns]"
      ]
     },
     "execution_count": 4,
     "metadata": {
      "tags": []
     },
     "output_type": "execute_result"
    }
   ],
   "source": [
    "df[['text', 'cleaned_text','stemmed_text', 'reconstructed_text']].head()"
   ]
  },
  {
   "cell_type": "markdown",
   "metadata": {
    "id": "QAG8incYMO3a"
   },
   "source": [
    "Create a mapping for the labels"
   ]
  },
  {
   "cell_type": "code",
   "execution_count": null,
   "metadata": {
    "id": "xFIhcVfuM8_U"
   },
   "outputs": [],
   "source": [
    "label_dict = {'positive': 2, 'neutral': 1, 'negative': 0}\n",
    "label_dict_one_hot = {'positive': np.array([0,0,1]), 'neutral': np.array([0,1,0]), 'negative': np.array([1,0,0])}\n",
    "df['airline_sentiment_label'] = df['airline_sentiment'].map(label_dict)\n",
    "df['airline_sentiment_label_one_hot'] = df['airline_sentiment'].map(label_dict_one_hot)"
   ]
  },
  {
   "cell_type": "markdown",
   "metadata": {
    "id": "wRwE7dmDMdmY"
   },
   "source": [
    "Check the distribution among the classes."
   ]
  },
  {
   "cell_type": "code",
   "execution_count": null,
   "metadata": {
    "colab": {
     "base_uri": "https://localhost:8080/"
    },
    "id": "1i9DeM0hM9Bz",
    "outputId": "c080696b-fc8c-46d4-b0b9-805b054c5366"
   },
   "outputs": [
    {
     "data": {
      "text/plain": [
       "0    0.626913\n",
       "1    0.211680\n",
       "2    0.161407\n",
       "Name: airline_sentiment_label, dtype: float64"
      ]
     },
     "execution_count": 6,
     "metadata": {
      "tags": []
     },
     "output_type": "execute_result"
    }
   ],
   "source": [
    "df['airline_sentiment_label'].value_counts() / len(df)"
   ]
  },
  {
   "cell_type": "markdown",
   "metadata": {
    "id": "JL0puhpNMkZ1"
   },
   "source": [
    "Then split the data in train and test in a stratified manner, startified by the label and the airline."
   ]
  },
  {
   "cell_type": "code",
   "execution_count": null,
   "metadata": {
    "id": "hXLcp-nKZgXF"
   },
   "outputs": [],
   "source": [
    "from sklearn.model_selection import train_test_split\n",
    "\n",
    "train, test = train_test_split(df, shuffle=True, stratify=df[['airline_sentiment_label', 'airline']],\n",
    "                               test_size=0.15, random_state=9)\n",
    "\n",
    "train, validation = train_test_split(train, shuffle=True, stratify=train[['airline_sentiment_label', 'airline']],\n",
    "                               test_size=0.2, random_state=9)"
   ]
  },
  {
   "cell_type": "code",
   "execution_count": null,
   "metadata": {
    "colab": {
     "base_uri": "https://localhost:8080/"
    },
    "id": "eNSIl5AjNVQl",
    "outputId": "8bd3dfc0-98d5-47d8-b285-53ef899c2ea1"
   },
   "outputs": [
    {
     "name": "stdout",
     "output_type": "stream",
     "text": [
      "Training Set: 68.00 %,  Validation Set: 17.00 %  Test Set: 15.00 %\n"
     ]
    }
   ],
   "source": [
    "print(f\"Training Set:{len(train) / len(df) * 100 : .2f} %, \\\n",
    " Validation Set:{len(validation) / len(df) * 100 : .2f} % \\\n",
    " Test Set:{len(test) / len(df) * 100 : .2f} %\")"
   ]
  },
  {
   "cell_type": "markdown",
   "metadata": {
    "id": "73lIj36uw5Kp"
   },
   "source": [
    "# TFIDF with Logistic Regression\n",
    "\n",
    "This is our baseline model. In order to take advantage of the GridsearchCV as well as keep a clean split between train, validation and split we used the PredefinedSplit class in order to keep the train and validation set static."
   ]
  },
  {
   "cell_type": "code",
   "execution_count": null,
   "metadata": {
    "id": "PncbOIzQxzej"
   },
   "outputs": [],
   "source": [
    "from sklearn.model_selection import GridSearchCV, PredefinedSplit\n",
    "\n",
    "X_train = train.reconstructed_text\n",
    "X_val = validation.reconstructed_text\n",
    "X_test = test.reconstructed_text\n",
    "\n",
    "y_train = train.airline_sentiment_label\n",
    "y_val = validation.airline_sentiment_label\n",
    "y_test = test.airline_sentiment_label\n",
    "\n",
    "train_indices = [-1] * len(train)\n",
    "val_indices = [0] * len(validation)\n",
    "ps = PredefinedSplit(test_fold=np.concatenate((train_indices,val_indices)))\n",
    "X_train_val = np.concatenate((X_train, X_val))\n",
    "y_train_val = np.concatenate((y_train, y_val))"
   ]
  },
  {
   "cell_type": "markdown",
   "metadata": {
    "id": "Pok2lC2GsQUk"
   },
   "source": [
    "Then we train the Tfidf vectorizer as well as the LogisticRegression model using a pipeline in combination with GridSearchCV."
   ]
  },
  {
   "cell_type": "code",
   "execution_count": null,
   "metadata": {
    "colab": {
     "base_uri": "https://localhost:8080/"
    },
    "id": "9ULGBYuBw9ga",
    "outputId": "5af3ce89-c202-451a-c321-097c344ed61f"
   },
   "outputs": [
    {
     "name": "stdout",
     "output_type": "stream",
     "text": [
      "Fitting 1 folds for each of 225 candidates, totalling 225 fits\n"
     ]
    },
    {
     "name": "stderr",
     "output_type": "stream",
     "text": [
      "[Parallel(n_jobs=-1)]: Using backend LokyBackend with 2 concurrent workers.\n",
      "[Parallel(n_jobs=-1)]: Done  21 tasks      | elapsed:   13.3s\n",
      "[Parallel(n_jobs=-1)]: Done  94 tasks      | elapsed:  1.1min\n",
      "[Parallel(n_jobs=-1)]: Done 217 tasks      | elapsed:  2.8min\n",
      "[Parallel(n_jobs=-1)]: Done 225 out of 225 | elapsed:  2.9min finished\n"
     ]
    },
    {
     "name": "stdout",
     "output_type": "stream",
     "text": [
      "Best Score:  0.7216601211103882\n",
      "Best Params:  {'clf__C': 2.13125, 'vectorizer__max_features': 5000, 'vectorizer__ngram_range': (1, 3)}\n"
     ]
    },
    {
     "data": {
      "text/plain": [
       "LogisticRegression(C=2.13125, class_weight=None, dual=False, fit_intercept=True,\n",
       "                   intercept_scaling=1, l1_ratio=None, max_iter=200,\n",
       "                   multi_class='multinomial', n_jobs=None, penalty='l2',\n",
       "                   random_state=1234, solver='newton-cg', tol=0.0001, verbose=0,\n",
       "                   warm_start=False)"
      ]
     },
     "execution_count": 10,
     "metadata": {
      "tags": []
     },
     "output_type": "execute_result"
    }
   ],
   "source": [
    "from sklearn.dummy import DummyClassifier\n",
    "from sklearn.linear_model import LogisticRegression\n",
    "from sklearn.metrics import f1_score\n",
    "from sklearn.pipeline import Pipeline\n",
    "from sklearn.feature_extraction.text import TfidfVectorizer\n",
    "\n",
    "pipe = Pipeline([\n",
    "    ('vectorizer', TfidfVectorizer(stop_words = stopwords.words('english'))),\n",
    "    ('clf', LogisticRegression(multi_class='multinomial', solver='newton-cg', max_iter=200, random_state=1234))\n",
    "    ])\n",
    "\n",
    "grid_params = {\n",
    "  'clf__C': np.linspace(0.05, 50, 25),\n",
    "  'vectorizer__ngram_range': [(1,1),(1,2),(1,3)],  \n",
    "  'vectorizer__max_features': [1500, 2500, 5000],\n",
    "}\n",
    "\n",
    "lr = GridSearchCV(pipe, grid_params, scoring='f1_macro', cv=ps, n_jobs=-1, verbose=4)\n",
    "lr.fit(X=X_train_val,  y = y_train_val)\n",
    "\n",
    "print(\"Best Score: \", lr.best_score_)\n",
    "print(\"Best Params: \", lr.best_params_)\n",
    "\n",
    "#refit only on train after best param\n",
    "X_train_transformed = lr.best_estimator_.named_steps['vectorizer'].fit_transform(X_train)\n",
    "lr.best_estimator_.named_steps['clf'].fit(X_train_transformed, y_train)"
   ]
  },
  {
   "cell_type": "markdown",
   "metadata": {
    "id": "GQpwJhIYsuCJ"
   },
   "source": [
    "Next we plot the results"
   ]
  },
  {
   "cell_type": "code",
   "execution_count": null,
   "metadata": {
    "id": "06X69RN5Jptm"
   },
   "outputs": [],
   "source": [
    "from sklearn.metrics import classification_report\n",
    "\n",
    "def evaluation(y_true, y_pred, set_type):\n",
    "    metrics = ['precision', 'recall', 'f1-score']\n",
    "    cr = classification_report(y_true, y_pred, output_dict=True)\n",
    "    res = []\n",
    "    for metric in metrics:\n",
    "        res.append((cr['0'][metric], cr['1'][metric], cr['2'][metric], set_type, metric))\n",
    "    return res\n",
    "\n",
    "def clf_plot_evaluation(res, title):\n",
    "    fig, axs = plt.subplots(1, 3, figsize=(14,3.5), sharey=True)\n",
    "    fig.subplots_adjust(top=0.8, wspace=0.1)\n",
    "\n",
    "    sns.barplot(x = 'class', y = 'score', hue='set', data = res[res.metric=='precision'], ax = axs[0])\n",
    "    axs[0].title.set_text('Precision')\n",
    "    axs[0].set_ylabel('metric score')\n",
    "\n",
    "    sns.barplot(x = 'class', y = 'score', hue='set', data = res[res.metric=='recall'], ax = axs[1])\n",
    "    axs[1].title.set_text('Recall')\n",
    "    axs[1].set_ylabel('')\n",
    "    \n",
    "    sns.barplot(x = 'class', y = 'score', hue='set', data = res[res.metric=='f1-score'], ax = axs[2])\n",
    "    axs[2].title.set_text('f1-score')\n",
    "    axs[2].set_ylabel('')\n",
    "    \n",
    "    handles, labels = axs[0].get_legend_handles_labels()\n",
    "    axs[0].legend(handles[:0], labels[:0]) \n",
    "    axs[1].legend(handles[:0], labels[:0])\n",
    "    axs[2].legend(handles[:0], labels[:0]) \n",
    "    fig.legend(handles, labels, loc='upper right', fontsize='small')\n",
    "\n",
    "    plt.ylim(0,1)\n",
    "    plt.suptitle(title)\n",
    "    plt.show()"
   ]
  },
  {
   "cell_type": "code",
   "execution_count": null,
   "metadata": {
    "colab": {
     "base_uri": "https://localhost:8080/",
     "height": 212
    },
    "id": "Q0OGCBqoyZsP",
    "outputId": "399492fc-f35c-4573-95b5-b21be44675f3"
   },
   "outputs": [
    {
     "data": {
      "image/png": "[encoded data removed]",
      "text/plain": [
       "<Figure size 1008x252 with 3 Axes>"
      ]
     },
     "metadata": {
      "needs_background": "light",
      "tags": []
     },
     "output_type": "display_data"
    }
   ],
   "source": [
    "res_lr = pd.DataFrame(\n",
    "    evaluation(lr.predict(X_train), y_train, 'train') \\\n",
    "    + evaluation(lr.predict(X_val), y_val, 'val') \\\n",
    "    + evaluation(lr.predict(X_test), y_test, 'test') \\\n",
    "   ,columns = ['negative', 'neutral', 'positive', 'set', 'metric']\n",
    ")\n",
    "\n",
    "res_lr = pd.melt(res_lr, id_vars = ['set','metric'], value_vars=['negative','neutral','positive'], var_name='class', value_name='score')\n",
    "clf_plot_evaluation(res_lr, 'Logistic Regression')"
   ]
  },
  {
   "cell_type": "markdown",
   "metadata": {
    "id": "-aeywYQJ2B2E"
   },
   "source": [
    "# Load the Embeddings\n",
    "\n",
    "Since we have trained a baseline model, we will continue with fitting 2 Multilayer Perceptrons. The input of both models is based on the pretrained GloVe embeddings."
   ]
  },
  {
   "cell_type": "code",
   "execution_count": null,
   "metadata": {
    "colab": {
     "base_uri": "https://localhost:8080/"
    },
    "id": "dXlOJm7RNF0m",
    "outputId": "27879ae1-8360-4593-cd1d-4420fd68ee56"
   },
   "outputs": [
    {
     "name": "stdout",
     "output_type": "stream",
     "text": [
      "--2021-03-26 16:00:24--  http://nlp.stanford.edu/data/glove.6B.zip\n",
      "Resolving nlp.stanford.edu (nlp.stanford.edu)... 171.64.67.140\n",
      "Connecting to nlp.stanford.edu (nlp.stanford.edu)|171.64.67.140|:80... connected.\n",
      "HTTP request sent, awaiting response... 302 Found\n",
      "Location: https://nlp.stanford.edu/data/glove.6B.zip [following]\n",
      "--2021-03-26 16:00:24--  https://nlp.stanford.edu/data/glove.6B.zip\n",
      "Connecting to nlp.stanford.edu (nlp.stanford.edu)|171.64.67.140|:443... connected.\n",
      "HTTP request sent, awaiting response... 301 Moved Permanently\n",
      "Location: http://downloads.cs.stanford.edu/nlp/data/glove.6B.zip [following]\n",
      "--2021-03-26 16:00:24--  http://downloads.cs.stanford.edu/nlp/data/glove.6B.zip\n",
      "Resolving downloads.cs.stanford.edu (downloads.cs.stanford.edu)... 171.64.64.22\n",
      "Connecting to downloads.cs.stanford.edu (downloads.cs.stanford.edu)|171.64.64.22|:80... connected.\n",
      "HTTP request sent, awaiting response... 200 OK\n",
      "Length: 862182613 (822M) [application/zip]\n",
      "Saving to: ‘glove.6B.zip’\n",
      "\n",
      "glove.6B.zip        100%[===================>] 822.24M  5.14MB/s    in 2m 42s  \n",
      "\n",
      "2021-03-26 16:03:05 (5.09 MB/s) - ‘glove.6B.zip’ saved [862182613/862182613]\n",
      "\n"
     ]
    }
   ],
   "source": [
    "!wget http://nlp.stanford.edu/data/glove.6B.zip"
   ]
  },
  {
   "cell_type": "code",
   "execution_count": null,
   "metadata": {
    "colab": {
     "base_uri": "https://localhost:8080/"
    },
    "id": "ZRXenCZc8uIy",
    "outputId": "19e50bad-0086-46b3-fec6-fd18e3330389"
   },
   "outputs": [
    {
     "name": "stdout",
     "output_type": "stream",
     "text": [
      "Archive:  glove.6B.zip\n",
      "  inflating: glove.6B.50d.txt        \n",
      "  inflating: glove.6B.100d.txt       \n",
      "  inflating: glove.6B.200d.txt       \n",
      "  inflating: glove.6B.300d.txt       \n"
     ]
    }
   ],
   "source": [
    "!unzip glove.6B.zip"
   ]
  },
  {
   "cell_type": "code",
   "execution_count": null,
   "metadata": {
    "colab": {
     "base_uri": "https://localhost:8080/",
     "height": 284
    },
    "id": "ADof68kE8xtM",
    "outputId": "81cbf06a-5b86-4924-de22-8a5b858900b1"
   },
   "outputs": [
    {
     "data": {
      "text/html": [
       "<div>\n",
       "<style scoped>\n",
       "    .dataframe tbody tr th:only-of-type {\n",
       "        vertical-align: middle;\n",
       "    }\n",
       "\n",
       "    .dataframe tbody tr th {\n",
       "        vertical-align: top;\n",
       "    }\n",
       "\n",
       "    .dataframe thead th {\n",
       "        text-align: right;\n",
       "    }\n",
       "</style>\n",
       "<table border=\"1\" class=\"dataframe\">\n",
       "  <thead>\n",
       "    <tr style=\"text-align: right;\">\n",
       "      <th></th>\n",
       "      <th>1</th>\n",
       "      <th>2</th>\n",
       "      <th>3</th>\n",
       "      <th>4</th>\n",
       "      <th>5</th>\n",
       "      <th>6</th>\n",
       "      <th>7</th>\n",
       "      <th>8</th>\n",
       "      <th>9</th>\n",
       "      <th>10</th>\n",
       "      <th>11</th>\n",
       "      <th>12</th>\n",
       "      <th>13</th>\n",
       "      <th>14</th>\n",
       "      <th>15</th>\n",
       "      <th>16</th>\n",
       "      <th>17</th>\n",
       "      <th>18</th>\n",
       "      <th>19</th>\n",
       "      <th>20</th>\n",
       "      <th>21</th>\n",
       "      <th>22</th>\n",
       "      <th>23</th>\n",
       "      <th>24</th>\n",
       "      <th>25</th>\n",
       "      <th>26</th>\n",
       "      <th>27</th>\n",
       "      <th>28</th>\n",
       "      <th>29</th>\n",
       "      <th>30</th>\n",
       "      <th>31</th>\n",
       "      <th>32</th>\n",
       "      <th>33</th>\n",
       "      <th>34</th>\n",
       "      <th>35</th>\n",
       "      <th>36</th>\n",
       "      <th>37</th>\n",
       "      <th>38</th>\n",
       "      <th>39</th>\n",
       "      <th>40</th>\n",
       "      <th>...</th>\n",
       "      <th>261</th>\n",
       "      <th>262</th>\n",
       "      <th>263</th>\n",
       "      <th>264</th>\n",
       "      <th>265</th>\n",
       "      <th>266</th>\n",
       "      <th>267</th>\n",
       "      <th>268</th>\n",
       "      <th>269</th>\n",
       "      <th>270</th>\n",
       "      <th>271</th>\n",
       "      <th>272</th>\n",
       "      <th>273</th>\n",
       "      <th>274</th>\n",
       "      <th>275</th>\n",
       "      <th>276</th>\n",
       "      <th>277</th>\n",
       "      <th>278</th>\n",
       "      <th>279</th>\n",
       "      <th>280</th>\n",
       "      <th>281</th>\n",
       "      <th>282</th>\n",
       "      <th>283</th>\n",
       "      <th>284</th>\n",
       "      <th>285</th>\n",
       "      <th>286</th>\n",
       "      <th>287</th>\n",
       "      <th>288</th>\n",
       "      <th>289</th>\n",
       "      <th>290</th>\n",
       "      <th>291</th>\n",
       "      <th>292</th>\n",
       "      <th>293</th>\n",
       "      <th>294</th>\n",
       "      <th>295</th>\n",
       "      <th>296</th>\n",
       "      <th>297</th>\n",
       "      <th>298</th>\n",
       "      <th>299</th>\n",
       "      <th>300</th>\n",
       "    </tr>\n",
       "    <tr>\n",
       "      <th>0</th>\n",
       "      <th></th>\n",
       "      <th></th>\n",
       "      <th></th>\n",
       "      <th></th>\n",
       "      <th></th>\n",
       "      <th></th>\n",
       "      <th></th>\n",
       "      <th></th>\n",
       "      <th></th>\n",
       "      <th></th>\n",
       "      <th></th>\n",
       "      <th></th>\n",
       "      <th></th>\n",
       "      <th></th>\n",
       "      <th></th>\n",
       "      <th></th>\n",
       "      <th></th>\n",
       "      <th></th>\n",
       "      <th></th>\n",
       "      <th></th>\n",
       "      <th></th>\n",
       "      <th></th>\n",
       "      <th></th>\n",
       "      <th></th>\n",
       "      <th></th>\n",
       "      <th></th>\n",
       "      <th></th>\n",
       "      <th></th>\n",
       "      <th></th>\n",
       "      <th></th>\n",
       "      <th></th>\n",
       "      <th></th>\n",
       "      <th></th>\n",
       "      <th></th>\n",
       "      <th></th>\n",
       "      <th></th>\n",
       "      <th></th>\n",
       "      <th></th>\n",
       "      <th></th>\n",
       "      <th></th>\n",
       "      <th></th>\n",
       "      <th></th>\n",
       "      <th></th>\n",
       "      <th></th>\n",
       "      <th></th>\n",
       "      <th></th>\n",
       "      <th></th>\n",
       "      <th></th>\n",
       "      <th></th>\n",
       "      <th></th>\n",
       "      <th></th>\n",
       "      <th></th>\n",
       "      <th></th>\n",
       "      <th></th>\n",
       "      <th></th>\n",
       "      <th></th>\n",
       "      <th></th>\n",
       "      <th></th>\n",
       "      <th></th>\n",
       "      <th></th>\n",
       "      <th></th>\n",
       "      <th></th>\n",
       "      <th></th>\n",
       "      <th></th>\n",
       "      <th></th>\n",
       "      <th></th>\n",
       "      <th></th>\n",
       "      <th></th>\n",
       "      <th></th>\n",
       "      <th></th>\n",
       "      <th></th>\n",
       "      <th></th>\n",
       "      <th></th>\n",
       "      <th></th>\n",
       "      <th></th>\n",
       "      <th></th>\n",
       "      <th></th>\n",
       "      <th></th>\n",
       "      <th></th>\n",
       "      <th></th>\n",
       "      <th></th>\n",
       "    </tr>\n",
       "  </thead>\n",
       "  <tbody>\n",
       "    <tr>\n",
       "      <th>the</th>\n",
       "      <td>0.046560</td>\n",
       "      <td>0.213180</td>\n",
       "      <td>-0.007436</td>\n",
       "      <td>-0.458540</td>\n",
       "      <td>-0.035639</td>\n",
       "      <td>0.236430</td>\n",
       "      <td>-0.288360</td>\n",
       "      <td>0.215210</td>\n",
       "      <td>-0.134860</td>\n",
       "      <td>-1.6413</td>\n",
       "      <td>-0.26091</td>\n",
       "      <td>0.032434</td>\n",
       "      <td>0.056621</td>\n",
       "      <td>-0.043296</td>\n",
       "      <td>-0.021672</td>\n",
       "      <td>0.224760</td>\n",
       "      <td>-0.075129</td>\n",
       "      <td>-0.067018</td>\n",
       "      <td>-0.142470</td>\n",
       "      <td>0.038825</td>\n",
       "      <td>-0.189510</td>\n",
       "      <td>0.29977</td>\n",
       "      <td>0.393050</td>\n",
       "      <td>0.178870</td>\n",
       "      <td>-0.173430</td>\n",
       "      <td>-0.211780</td>\n",
       "      <td>0.236170</td>\n",
       "      <td>-0.063681</td>\n",
       "      <td>-0.423180</td>\n",
       "      <td>-0.116610</td>\n",
       "      <td>0.093754</td>\n",
       "      <td>0.172960</td>\n",
       "      <td>-0.33073</td>\n",
       "      <td>0.491120</td>\n",
       "      <td>-0.68995</td>\n",
       "      <td>-0.092462</td>\n",
       "      <td>0.247420</td>\n",
       "      <td>-0.179910</td>\n",
       "      <td>0.097908</td>\n",
       "      <td>0.083118</td>\n",
       "      <td>...</td>\n",
       "      <td>-0.287970</td>\n",
       "      <td>-0.058996</td>\n",
       "      <td>-0.032436</td>\n",
       "      <td>-0.004701</td>\n",
       "      <td>-0.170520</td>\n",
       "      <td>-0.034741</td>\n",
       "      <td>-0.114890</td>\n",
       "      <td>0.075093</td>\n",
       "      <td>0.099526</td>\n",
       "      <td>0.048183</td>\n",
       "      <td>-0.073775</td>\n",
       "      <td>-0.418170</td>\n",
       "      <td>0.004127</td>\n",
       "      <td>0.44414</td>\n",
       "      <td>-0.16062</td>\n",
       "      <td>0.142940</td>\n",
       "      <td>-2.2628</td>\n",
       "      <td>-0.027347</td>\n",
       "      <td>0.81311</td>\n",
       "      <td>0.774170</td>\n",
       "      <td>-0.256390</td>\n",
       "      <td>-0.115760</td>\n",
       "      <td>-0.119820</td>\n",
       "      <td>-0.21363</td>\n",
       "      <td>0.028429</td>\n",
       "      <td>0.27261</td>\n",
       "      <td>0.031026</td>\n",
       "      <td>0.096782</td>\n",
       "      <td>0.006777</td>\n",
       "      <td>0.140820</td>\n",
       "      <td>-0.013064</td>\n",
       "      <td>-0.296860</td>\n",
       "      <td>-0.079913</td>\n",
       "      <td>0.195000</td>\n",
       "      <td>0.031549</td>\n",
       "      <td>0.285060</td>\n",
       "      <td>-0.087461</td>\n",
       "      <td>0.009061</td>\n",
       "      <td>-0.209890</td>\n",
       "      <td>0.053913</td>\n",
       "    </tr>\n",
       "    <tr>\n",
       "      <th>,</th>\n",
       "      <td>-0.255390</td>\n",
       "      <td>-0.257230</td>\n",
       "      <td>0.131690</td>\n",
       "      <td>-0.042688</td>\n",
       "      <td>0.218170</td>\n",
       "      <td>-0.022702</td>\n",
       "      <td>-0.178540</td>\n",
       "      <td>0.107560</td>\n",
       "      <td>0.058936</td>\n",
       "      <td>-1.3854</td>\n",
       "      <td>0.58509</td>\n",
       "      <td>0.036501</td>\n",
       "      <td>-0.198460</td>\n",
       "      <td>0.196130</td>\n",
       "      <td>0.409290</td>\n",
       "      <td>0.157020</td>\n",
       "      <td>-0.153050</td>\n",
       "      <td>0.050447</td>\n",
       "      <td>0.300450</td>\n",
       "      <td>-0.112950</td>\n",
       "      <td>-0.017043</td>\n",
       "      <td>0.18593</td>\n",
       "      <td>0.199820</td>\n",
       "      <td>0.200530</td>\n",
       "      <td>-0.631410</td>\n",
       "      <td>-0.126220</td>\n",
       "      <td>0.295100</td>\n",
       "      <td>-0.262820</td>\n",
       "      <td>-0.158310</td>\n",
       "      <td>0.001238</td>\n",
       "      <td>0.011784</td>\n",
       "      <td>0.587580</td>\n",
       "      <td>-0.15914</td>\n",
       "      <td>0.277310</td>\n",
       "      <td>-0.82343</td>\n",
       "      <td>-0.211340</td>\n",
       "      <td>0.013414</td>\n",
       "      <td>0.196370</td>\n",
       "      <td>-0.414700</td>\n",
       "      <td>0.001028</td>\n",
       "      <td>...</td>\n",
       "      <td>-0.063187</td>\n",
       "      <td>-0.245530</td>\n",
       "      <td>-0.059751</td>\n",
       "      <td>0.068787</td>\n",
       "      <td>-0.116270</td>\n",
       "      <td>-0.008340</td>\n",
       "      <td>0.005204</td>\n",
       "      <td>-0.201590</td>\n",
       "      <td>-0.023663</td>\n",
       "      <td>0.175620</td>\n",
       "      <td>-0.314750</td>\n",
       "      <td>-0.111620</td>\n",
       "      <td>-0.124920</td>\n",
       "      <td>0.10949</td>\n",
       "      <td>-0.26913</td>\n",
       "      <td>0.348930</td>\n",
       "      <td>-1.6997</td>\n",
       "      <td>-0.244700</td>\n",
       "      <td>0.30292</td>\n",
       "      <td>0.056720</td>\n",
       "      <td>-0.317370</td>\n",
       "      <td>0.083612</td>\n",
       "      <td>0.095949</td>\n",
       "      <td>-0.17590</td>\n",
       "      <td>0.102350</td>\n",
       "      <td>0.36808</td>\n",
       "      <td>-0.343800</td>\n",
       "      <td>0.206070</td>\n",
       "      <td>0.191350</td>\n",
       "      <td>0.109920</td>\n",
       "      <td>0.075968</td>\n",
       "      <td>-0.014359</td>\n",
       "      <td>-0.073794</td>\n",
       "      <td>0.221760</td>\n",
       "      <td>0.146520</td>\n",
       "      <td>0.566860</td>\n",
       "      <td>0.053307</td>\n",
       "      <td>-0.232900</td>\n",
       "      <td>-0.122260</td>\n",
       "      <td>0.354990</td>\n",
       "    </tr>\n",
       "    <tr>\n",
       "      <th>.</th>\n",
       "      <td>-0.125590</td>\n",
       "      <td>0.013630</td>\n",
       "      <td>0.103060</td>\n",
       "      <td>-0.101230</td>\n",
       "      <td>0.098128</td>\n",
       "      <td>0.136270</td>\n",
       "      <td>-0.107210</td>\n",
       "      <td>0.236970</td>\n",
       "      <td>0.328700</td>\n",
       "      <td>-1.6785</td>\n",
       "      <td>0.22393</td>\n",
       "      <td>0.124090</td>\n",
       "      <td>-0.086708</td>\n",
       "      <td>0.330100</td>\n",
       "      <td>0.343750</td>\n",
       "      <td>-0.000876</td>\n",
       "      <td>-0.296580</td>\n",
       "      <td>0.244170</td>\n",
       "      <td>-0.115920</td>\n",
       "      <td>-0.035742</td>\n",
       "      <td>-0.010830</td>\n",
       "      <td>0.20776</td>\n",
       "      <td>0.292850</td>\n",
       "      <td>-0.073491</td>\n",
       "      <td>-0.185980</td>\n",
       "      <td>-0.200900</td>\n",
       "      <td>-0.095366</td>\n",
       "      <td>0.006373</td>\n",
       "      <td>-0.136200</td>\n",
       "      <td>0.092028</td>\n",
       "      <td>-0.039957</td>\n",
       "      <td>0.190270</td>\n",
       "      <td>-0.10456</td>\n",
       "      <td>0.002767</td>\n",
       "      <td>-0.71742</td>\n",
       "      <td>-0.129150</td>\n",
       "      <td>-0.001345</td>\n",
       "      <td>0.270020</td>\n",
       "      <td>-0.053023</td>\n",
       "      <td>0.221480</td>\n",
       "      <td>...</td>\n",
       "      <td>-0.136670</td>\n",
       "      <td>-0.439620</td>\n",
       "      <td>0.237040</td>\n",
       "      <td>0.031296</td>\n",
       "      <td>0.074701</td>\n",
       "      <td>-0.223870</td>\n",
       "      <td>0.007816</td>\n",
       "      <td>-0.190160</td>\n",
       "      <td>0.044444</td>\n",
       "      <td>0.201910</td>\n",
       "      <td>-0.208140</td>\n",
       "      <td>-0.283820</td>\n",
       "      <td>0.104270</td>\n",
       "      <td>-0.21098</td>\n",
       "      <td>0.18865</td>\n",
       "      <td>0.316590</td>\n",
       "      <td>-2.0753</td>\n",
       "      <td>-0.071045</td>\n",
       "      <td>0.52419</td>\n",
       "      <td>0.056023</td>\n",
       "      <td>-0.252950</td>\n",
       "      <td>-0.062168</td>\n",
       "      <td>-0.109890</td>\n",
       "      <td>-0.35755</td>\n",
       "      <td>-0.079244</td>\n",
       "      <td>0.37472</td>\n",
       "      <td>-0.283530</td>\n",
       "      <td>0.163370</td>\n",
       "      <td>0.111650</td>\n",
       "      <td>-0.098002</td>\n",
       "      <td>0.060148</td>\n",
       "      <td>-0.156190</td>\n",
       "      <td>-0.119490</td>\n",
       "      <td>0.234450</td>\n",
       "      <td>0.081367</td>\n",
       "      <td>0.246180</td>\n",
       "      <td>-0.152420</td>\n",
       "      <td>-0.342240</td>\n",
       "      <td>-0.022394</td>\n",
       "      <td>0.136840</td>\n",
       "    </tr>\n",
       "    <tr>\n",
       "      <th>of</th>\n",
       "      <td>-0.076947</td>\n",
       "      <td>-0.021211</td>\n",
       "      <td>0.212710</td>\n",
       "      <td>-0.722320</td>\n",
       "      <td>-0.139880</td>\n",
       "      <td>-0.122340</td>\n",
       "      <td>-0.175210</td>\n",
       "      <td>0.121370</td>\n",
       "      <td>-0.070866</td>\n",
       "      <td>-1.5721</td>\n",
       "      <td>-0.22464</td>\n",
       "      <td>0.042690</td>\n",
       "      <td>-0.401800</td>\n",
       "      <td>0.210060</td>\n",
       "      <td>0.014288</td>\n",
       "      <td>0.416280</td>\n",
       "      <td>0.017165</td>\n",
       "      <td>0.071732</td>\n",
       "      <td>0.006925</td>\n",
       "      <td>0.181070</td>\n",
       "      <td>-0.154120</td>\n",
       "      <td>0.14933</td>\n",
       "      <td>-0.030493</td>\n",
       "      <td>0.299180</td>\n",
       "      <td>0.029479</td>\n",
       "      <td>-0.036147</td>\n",
       "      <td>-0.061125</td>\n",
       "      <td>0.083918</td>\n",
       "      <td>-0.123980</td>\n",
       "      <td>-0.100770</td>\n",
       "      <td>-0.005414</td>\n",
       "      <td>0.337100</td>\n",
       "      <td>-0.25612</td>\n",
       "      <td>0.443880</td>\n",
       "      <td>-0.68922</td>\n",
       "      <td>0.180200</td>\n",
       "      <td>0.348980</td>\n",
       "      <td>-0.052284</td>\n",
       "      <td>-0.262260</td>\n",
       "      <td>-0.471090</td>\n",
       "      <td>...</td>\n",
       "      <td>0.467280</td>\n",
       "      <td>0.482140</td>\n",
       "      <td>0.105480</td>\n",
       "      <td>0.065805</td>\n",
       "      <td>0.067221</td>\n",
       "      <td>0.133210</td>\n",
       "      <td>-0.278560</td>\n",
       "      <td>0.015532</td>\n",
       "      <td>0.300260</td>\n",
       "      <td>0.387480</td>\n",
       "      <td>-0.144010</td>\n",
       "      <td>-0.161310</td>\n",
       "      <td>0.176780</td>\n",
       "      <td>0.16448</td>\n",
       "      <td>-0.32440</td>\n",
       "      <td>0.007937</td>\n",
       "      <td>-2.2836</td>\n",
       "      <td>0.096945</td>\n",
       "      <td>0.66131</td>\n",
       "      <td>0.168570</td>\n",
       "      <td>-0.028877</td>\n",
       "      <td>-0.107910</td>\n",
       "      <td>-0.027445</td>\n",
       "      <td>-0.25695</td>\n",
       "      <td>0.046686</td>\n",
       "      <td>0.23087</td>\n",
       "      <td>-0.076458</td>\n",
       "      <td>0.271270</td>\n",
       "      <td>0.251850</td>\n",
       "      <td>0.054947</td>\n",
       "      <td>-0.366730</td>\n",
       "      <td>-0.386030</td>\n",
       "      <td>0.302900</td>\n",
       "      <td>0.015747</td>\n",
       "      <td>0.340360</td>\n",
       "      <td>0.478410</td>\n",
       "      <td>0.068617</td>\n",
       "      <td>0.183510</td>\n",
       "      <td>-0.291830</td>\n",
       "      <td>-0.046533</td>\n",
       "    </tr>\n",
       "    <tr>\n",
       "      <th>to</th>\n",
       "      <td>-0.257560</td>\n",
       "      <td>-0.057132</td>\n",
       "      <td>-0.671900</td>\n",
       "      <td>-0.380820</td>\n",
       "      <td>-0.364210</td>\n",
       "      <td>-0.082155</td>\n",
       "      <td>-0.010955</td>\n",
       "      <td>-0.082047</td>\n",
       "      <td>0.460560</td>\n",
       "      <td>-1.8477</td>\n",
       "      <td>-0.11258</td>\n",
       "      <td>-0.129550</td>\n",
       "      <td>0.272540</td>\n",
       "      <td>0.007289</td>\n",
       "      <td>0.260380</td>\n",
       "      <td>0.120960</td>\n",
       "      <td>-0.231930</td>\n",
       "      <td>0.032260</td>\n",
       "      <td>-0.294720</td>\n",
       "      <td>-0.675940</td>\n",
       "      <td>-0.338440</td>\n",
       "      <td>-0.23297</td>\n",
       "      <td>0.110200</td>\n",
       "      <td>0.188160</td>\n",
       "      <td>-0.451840</td>\n",
       "      <td>-0.338330</td>\n",
       "      <td>0.112740</td>\n",
       "      <td>0.494900</td>\n",
       "      <td>-0.042132</td>\n",
       "      <td>0.079961</td>\n",
       "      <td>-0.013146</td>\n",
       "      <td>0.062284</td>\n",
       "      <td>0.20223</td>\n",
       "      <td>0.038279</td>\n",
       "      <td>-1.11540</td>\n",
       "      <td>-0.121400</td>\n",
       "      <td>0.089846</td>\n",
       "      <td>0.297020</td>\n",
       "      <td>-0.055794</td>\n",
       "      <td>-0.460210</td>\n",
       "      <td>...</td>\n",
       "      <td>0.327080</td>\n",
       "      <td>-0.520490</td>\n",
       "      <td>0.037555</td>\n",
       "      <td>0.023667</td>\n",
       "      <td>-0.068237</td>\n",
       "      <td>-0.229160</td>\n",
       "      <td>0.017755</td>\n",
       "      <td>-0.183940</td>\n",
       "      <td>0.551070</td>\n",
       "      <td>-0.239650</td>\n",
       "      <td>0.391870</td>\n",
       "      <td>-0.017785</td>\n",
       "      <td>0.431130</td>\n",
       "      <td>0.27181</td>\n",
       "      <td>-0.16043</td>\n",
       "      <td>-0.347000</td>\n",
       "      <td>-2.4194</td>\n",
       "      <td>-0.028952</td>\n",
       "      <td>0.95085</td>\n",
       "      <td>0.058040</td>\n",
       "      <td>-0.236230</td>\n",
       "      <td>0.189140</td>\n",
       "      <td>0.311920</td>\n",
       "      <td>0.23064</td>\n",
       "      <td>-0.303090</td>\n",
       "      <td>-0.18603</td>\n",
       "      <td>0.076180</td>\n",
       "      <td>0.373370</td>\n",
       "      <td>-0.144440</td>\n",
       "      <td>-0.028793</td>\n",
       "      <td>-0.012806</td>\n",
       "      <td>-0.597070</td>\n",
       "      <td>0.317340</td>\n",
       "      <td>-0.252670</td>\n",
       "      <td>0.543840</td>\n",
       "      <td>0.063007</td>\n",
       "      <td>-0.049795</td>\n",
       "      <td>-0.160430</td>\n",
       "      <td>0.046744</td>\n",
       "      <td>-0.070621</td>\n",
       "    </tr>\n",
       "  </tbody>\n",
       "</table>\n",
       "<p>5 rows × 300 columns</p>\n",
       "</div>"
      ],
      "text/plain": [
       "          1         2         3    ...       298       299       300\n",
       "0                                  ...                              \n",
       "the  0.046560  0.213180 -0.007436  ...  0.009061 -0.209890  0.053913\n",
       ",   -0.255390 -0.257230  0.131690  ... -0.232900 -0.122260  0.354990\n",
       ".   -0.125590  0.013630  0.103060  ... -0.342240 -0.022394  0.136840\n",
       "of  -0.076947 -0.021211  0.212710  ...  0.183510 -0.291830 -0.046533\n",
       "to  -0.257560 -0.057132 -0.671900  ... -0.160430  0.046744 -0.070621\n",
       "\n",
       "[5 rows x 300 columns]"
      ]
     },
     "execution_count": 11,
     "metadata": {
      "tags": []
     },
     "output_type": "execute_result"
    }
   ],
   "source": [
    "import csv\n",
    "pretrained_embeddings = pd.read_table(\"glove.6B.300d.txt\", sep=\" \", index_col=0, header=None, quoting=csv.QUOTE_NONE)\n",
    "pretrained_embeddings.head()"
   ]
  },
  {
   "cell_type": "markdown",
   "metadata": {
    "id": "uh0t7CG8Uo4n"
   },
   "source": [
    "A class to use as callback that import precision, recall and f1 socres in the history log."
   ]
  },
  {
   "cell_type": "code",
   "execution_count": null,
   "metadata": {
    "id": "bOpRYZ_oV_tY"
   },
   "outputs": [],
   "source": [
    "import os\n",
    "import tensorflow as tf\n",
    "from sklearn.metrics import f1_score, recall_score, precision_score\n",
    "\n",
    "\n",
    "class Metrics(tf.keras.callbacks.Callback):\n",
    "    def __init__(self, valid_data):\n",
    "        super(Metrics, self).__init__()\n",
    "        self.validation_data = valid_data\n",
    "\n",
    "    def on_epoch_end(self, epoch, logs=None):\n",
    "        logs = logs or {}\n",
    "        val_predict = np.argmax(self.model.predict(self.validation_data[0]), -1)\n",
    "        val_targ = self.validation_data[1]\n",
    "        \n",
    "        if len(val_targ.shape) == 2 and val_targ.shape[1] != 1:\n",
    "            val_targ = np.argmax(val_targ, -1)\n",
    "        val_targ = tf.cast(val_targ,dtype=tf.float32)\n",
    "        \n",
    "        _val_f1 = f1_score(val_targ, val_predict,average=\"macro\")\n",
    "        _val_recall = recall_score(val_targ, val_predict,average=\"macro\")\n",
    "        _val_precision = precision_score(val_targ, val_predict,average=\"macro\")\n",
    "\n",
    "        logs['val_f1'] = _val_f1\n",
    "        logs['val_recall'] = _val_recall\n",
    "        logs['val_precision'] = _val_precision\n",
    "        print(\" — val_f1: %f — val_precision: %f — val_recall: %f\" % (_val_f1, _val_precision, _val_recall))\n",
    "        return"
   ]
  },
  {
   "cell_type": "markdown",
   "metadata": {
    "id": "qKvnQ_xct0cL"
   },
   "source": [
    "In order to tune the hyperparameters of the model, we used the keras hypertuner. We need to pip install it since colab does not include it by default."
   ]
  },
  {
   "cell_type": "code",
   "execution_count": null,
   "metadata": {
    "colab": {
     "base_uri": "https://localhost:8080/"
    },
    "id": "PJpeL-x9fZMi",
    "outputId": "da3afbbe-1499-411b-de3c-020c1a45c70d"
   },
   "outputs": [
    {
     "name": "stdout",
     "output_type": "stream",
     "text": [
      "Collecting keras-tuner\n",
      "\u001b[?25l  Downloading https://files.pythonhosted.org/packages/20/ec/1ef246787174b1e2bb591c95f29d3c1310070cad877824f907faba3dade9/keras-tuner-1.0.2.tar.gz (62kB)\n",
      "\r",
      "\u001b[K     |█████▏                          | 10kB 22.4MB/s eta 0:00:01\r",
      "\u001b[K     |██████████▍                     | 20kB 16.4MB/s eta 0:00:01\r",
      "\u001b[K     |███████████████▋                | 30kB 13.6MB/s eta 0:00:01\r",
      "\u001b[K     |████████████████████▉           | 40kB 13.3MB/s eta 0:00:01\r",
      "\u001b[K     |██████████████████████████      | 51kB 8.8MB/s eta 0:00:01\r",
      "\u001b[K     |███████████████████████████████▎| 61kB 9.4MB/s eta 0:00:01\r",
      "\u001b[K     |████████████████████████████████| 71kB 5.7MB/s \n",
      "\u001b[?25hRequirement already satisfied, skipping upgrade: packaging in /usr/local/lib/python3.7/dist-packages (from keras-tuner) (20.9)\n",
      "Requirement already satisfied, skipping upgrade: future in /usr/local/lib/python3.7/dist-packages (from keras-tuner) (0.16.0)\n",
      "Requirement already satisfied, skipping upgrade: numpy in /usr/local/lib/python3.7/dist-packages (from keras-tuner) (1.19.5)\n",
      "Requirement already satisfied, skipping upgrade: tabulate in /usr/local/lib/python3.7/dist-packages (from keras-tuner) (0.8.9)\n",
      "Collecting terminaltables\n",
      "  Downloading https://files.pythonhosted.org/packages/9b/c4/4a21174f32f8a7e1104798c445dacdc1d4df86f2f26722767034e4de4bff/terminaltables-3.1.0.tar.gz\n",
      "Collecting colorama\n",
      "  Downloading https://files.pythonhosted.org/packages/44/98/5b86278fbbf250d239ae0ecb724f8572af1c91f4a11edf4d36a206189440/colorama-0.4.4-py2.py3-none-any.whl\n",
      "Requirement already satisfied, skipping upgrade: tqdm in /usr/local/lib/python3.7/dist-packages (from keras-tuner) (4.41.1)\n",
      "Requirement already satisfied, skipping upgrade: requests in /usr/local/lib/python3.7/dist-packages (from keras-tuner) (2.23.0)\n",
      "Requirement already satisfied, skipping upgrade: scipy in /usr/local/lib/python3.7/dist-packages (from keras-tuner) (1.4.1)\n",
      "Requirement already satisfied, skipping upgrade: scikit-learn in /usr/local/lib/python3.7/dist-packages (from keras-tuner) (0.22.2.post1)\n",
      "Requirement already satisfied, skipping upgrade: pyparsing>=2.0.2 in /usr/local/lib/python3.7/dist-packages (from packaging->keras-tuner) (2.4.7)\n",
      "Requirement already satisfied, skipping upgrade: certifi>=2017.4.17 in /usr/local/lib/python3.7/dist-packages (from requests->keras-tuner) (2020.12.5)\n",
      "Requirement already satisfied, skipping upgrade: urllib3!=1.25.0,!=1.25.1,<1.26,>=1.21.1 in /usr/local/lib/python3.7/dist-packages (from requests->keras-tuner) (1.24.3)\n",
      "Requirement already satisfied, skipping upgrade: idna<3,>=2.5 in /usr/local/lib/python3.7/dist-packages (from requests->keras-tuner) (2.10)\n",
      "Requirement already satisfied, skipping upgrade: chardet<4,>=3.0.2 in /usr/local/lib/python3.7/dist-packages (from requests->keras-tuner) (3.0.4)\n",
      "Requirement already satisfied, skipping upgrade: joblib>=0.11 in /usr/local/lib/python3.7/dist-packages (from scikit-learn->keras-tuner) (1.0.1)\n",
      "Building wheels for collected packages: keras-tuner, terminaltables\n",
      "  Building wheel for keras-tuner (setup.py) ... \u001b[?25l\u001b[?25hdone\n",
      "  Created wheel for keras-tuner: filename=keras_tuner-1.0.2-cp37-none-any.whl size=78938 sha256=cb0f6f0c2ad51e007958433c9ae46e5e0363aa633e99ae487345d207b17b3b78\n",
      "  Stored in directory: /root/.cache/pip/wheels/bb/a1/8a/7c3de0efb3707a1701b36ebbfdbc4e67aedf6d4943a1f463d6\n",
      "  Building wheel for terminaltables (setup.py) ... \u001b[?25l\u001b[?25hdone\n",
      "  Created wheel for terminaltables: filename=terminaltables-3.1.0-cp37-none-any.whl size=15356 sha256=41966e6b7a0ab3209a2575e5c8af54eb36c89e5b4fb077b97de8f48deb15f1f2\n",
      "  Stored in directory: /root/.cache/pip/wheels/30/6b/50/6c75775b681fb36cdfac7f19799888ef9d8813aff9e379663e\n",
      "Successfully built keras-tuner terminaltables\n",
      "Installing collected packages: terminaltables, colorama, keras-tuner\n",
      "Successfully installed colorama-0.4.4 keras-tuner-1.0.2 terminaltables-3.1.0\n"
     ]
    }
   ],
   "source": [
    "!pip install -U keras-tuner"
   ]
  },
  {
   "cell_type": "code",
   "execution_count": null,
   "metadata": {
    "id": "a9qGYqFmfe4p"
   },
   "outputs": [],
   "source": [
    "from keras.preprocessing.text import one_hot\n",
    "from keras.preprocessing.sequence import pad_sequences\n",
    "from keras.models import Sequential\n",
    "from keras.layers import Dense\n",
    "from keras.layers import Flatten\n",
    "from keras.layers import Dropout\n",
    "from keras.layers import AveragePooling1D\n",
    "from keras.layers import Activation\n",
    "from keras.layers.embeddings import Embedding\n",
    "from keras.preprocessing.text import Tokenizer\n",
    "from keras.preprocessing.sequence import pad_sequences\n",
    "from keras import Model\n",
    "from tensorflow.keras.optimizers import Adam\n",
    "from tensorflow.keras.callbacks import ModelCheckpoint, EarlyStopping, ReduceLROnPlateau"
   ]
  },
  {
   "cell_type": "markdown",
   "metadata": {
    "id": "bKI1-Ag4fPpK"
   },
   "source": [
    "# Trainable Embeddings\n",
    "\n",
    "In this MLP model, we include an embedding layer with the Glove embeddings as initial weights. Additionally we set them to trainable, in order to adjust them to our task.\n",
    "\n",
    "The next function tries to find common words between the glove embeddings and each sentence. Additionally, stopwords are removed from each sentence. This process has been implemented using sets as data structures, in order to utilize their operations such as intersection and subtraction."
   ]
  },
  {
   "cell_type": "code",
   "execution_count": null,
   "metadata": {
    "colab": {
     "base_uri": "https://localhost:8080/"
    },
    "id": "oUqIWA-duCzG",
    "outputId": "3dfff603-a0d5-4333-b957-cac6698154e3"
   },
   "outputs": [
    {
     "name": "stderr",
     "output_type": "stream",
     "text": [
      "/usr/local/lib/python3.7/dist-packages/ipykernel_launcher.py:16: SettingWithCopyWarning: \n",
      "A value is trying to be set on a copy of a slice from a DataFrame.\n",
      "Try using .loc[row_indexer,col_indexer] = value instead\n",
      "\n",
      "See the caveats in the documentation: https://pandas.pydata.org/pandas-docs/stable/user_guide/indexing.html#returning-a-view-versus-a-copy\n",
      "  app.launch_new_instance()\n"
     ]
    }
   ],
   "source": [
    "pretrained_embeddings_words = set(pretrained_embeddings.index)\n",
    "stop_words_set = set(stopwords.words('english'))\n",
    "\n",
    "def keep_matching_words(tokenized_text):\n",
    "    matching_words = []\n",
    "    tok = set(tokenized_text)\n",
    "    matched = tok.intersection(pretrained_embeddings_words)\n",
    "    matched = matched - stop_words_set\n",
    "    for word in tokenized_text:\n",
    "        if word in matched:\n",
    "            matching_words.append(word)\n",
    "    return ' '.join(matching_words)\n",
    "\n",
    "train['matching_words'] = train.tokenized_text.apply(keep_matching_words)\n",
    "validation['matching_words'] = validation.tokenized_text.apply(keep_matching_words)\n",
    "test['matching_words'] = test.tokenized_text.apply(keep_matching_words)"
   ]
  },
  {
   "cell_type": "markdown",
   "metadata": {
    "id": "uw2nS3p6cUUU"
   },
   "source": [
    "In order to decide for the optmimal max len for the train data, we plot their lengths. The plot includes the distribution of all sets, in order to make sure that we observe the same lengths during training validation and testing."
   ]
  },
  {
   "cell_type": "code",
   "execution_count": null,
   "metadata": {
    "colab": {
     "base_uri": "https://localhost:8080/",
     "height": 309
    },
    "id": "No5XjkZiq0dX",
    "outputId": "bacc8b3a-c517-4a5a-ba7a-f87cafcbcd32"
   },
   "outputs": [
    {
     "data": {
      "image/png": "[encoded data removed]",
      "text/plain": [
       "<Figure size 432x288 with 1 Axes>"
      ]
     },
     "metadata": {
      "needs_background": "light",
      "tags": []
     },
     "output_type": "display_data"
    }
   ],
   "source": [
    "sns.kdeplot(train.matching_words.apply(lambda x: len(x.split())), label = 'Train')\n",
    "sns.kdeplot(validation.matching_words.apply(lambda x: len(x.split())), label = 'Validation')\n",
    "sns.kdeplot(test.matching_words.apply(lambda x: len(x.split())), label = 'Test')\n",
    "plt.xlabel('Sentence Length')\n",
    "plt.title('Sentence Length Distribution')\n",
    "plt.legend()\n",
    "plt.show()"
   ]
  },
  {
   "cell_type": "markdown",
   "metadata": {
    "id": "I5-fUdnVdg_e"
   },
   "source": [
    "Next we utilize the keras Tokenizer and pad our sequences."
   ]
  },
  {
   "cell_type": "code",
   "execution_count": null,
   "metadata": {
    "id": "xeg67qBSft6P"
   },
   "outputs": [],
   "source": [
    "t = Tokenizer()\n",
    "t.fit_on_texts(train.matching_words)\n",
    "vocab_size = len(t.word_index) + 1\n",
    "encoded_docs = t.texts_to_sequences(train.matching_words)\n",
    "max_len = 15\n",
    "train_padded_docs_mlp = pad_sequences(encoded_docs, maxlen=max_len, padding='post')\n",
    "y_train = np.vstack(train.airline_sentiment_label_one_hot)"
   ]
  },
  {
   "cell_type": "code",
   "execution_count": null,
   "metadata": {
    "id": "P0Tgq3cIsfxJ"
   },
   "outputs": [],
   "source": [
    "val_encoded_docs = t.texts_to_sequences(validation.matching_words)\n",
    "val_padded_docs_mlp = pad_sequences(val_encoded_docs, maxlen=max_len, padding='post')\n",
    "y_val = np.vstack(validation.airline_sentiment_label_one_hot)\n",
    "\n",
    "test_encoded_docs = t.texts_to_sequences(test.matching_words)\n",
    "test_padded_docs_mlp = pad_sequences(test_encoded_docs, maxlen=max_len, padding='post')\n",
    "y_test = np.vstack(test.airline_sentiment_label_one_hot)"
   ]
  },
  {
   "cell_type": "markdown",
   "metadata": {
    "id": "54Zx-DUhdpJq"
   },
   "source": [
    "We need to process the pretrained embeddings and choose those records and in that order as they appear in the word_index dictionary of the Keras Tokenizer. In order to avoid for loops, we perform a join between the vocabulary and the embeddings. Additionally, we add an additional row, since the 0th position of the vocabulary is committed for padding, thus initialized with 0."
   ]
  },
  {
   "cell_type": "code",
   "execution_count": null,
   "metadata": {
    "id": "H1PLtc5KkNcx"
   },
   "outputs": [],
   "source": [
    "vocabulary = pd.DataFrame.from_dict(data=t.word_index, orient='index')\n",
    "embedding_matrix = pd.merge(vocabulary, pretrained_embeddings, how='left', right_index=True, left_index=True)\n",
    "embedding_matrix = embedding_matrix.iloc[:,1:]\n",
    "embedding_matrix = embedding_matrix.loc[vocabulary.index]\n",
    "embedding_matrix = embedding_matrix.fillna(embedding_matrix.mean())\n",
    "embedding_matrix = np.vstack((np.zeros((1, embedding_matrix.shape[1])),\n",
    "                       embedding_matrix))"
   ]
  },
  {
   "cell_type": "markdown",
   "metadata": {
    "id": "V_mXtWlWfDwu"
   },
   "source": [
    "## Trainable Embeddings Hypermodel\n",
    "We create a hypermodel for tuning."
   ]
  },
  {
   "cell_type": "code",
   "execution_count": null,
   "metadata": {
    "id": "7p8eJevBHzwg"
   },
   "outputs": [],
   "source": [
    "import shutil\n",
    "shutil.rmtree('trainable_embeddings')"
   ]
  },
  {
   "cell_type": "code",
   "execution_count": null,
   "metadata": {
    "colab": {
     "base_uri": "https://localhost:8080/"
    },
    "id": "Lt4KZVJY9n9s",
    "outputId": "82170269-6e6e-4774-fc39-bf664b5edad8"
   },
   "outputs": [
    {
     "name": "stdout",
     "output_type": "stream",
     "text": [
      "Trial 30 Complete [00h 00m 33s]\n",
      "val_loss: 0.5170294642448425\n",
      "\n",
      "Best val_loss So Far: 0.4976612329483032\n",
      "Total elapsed time: 00h 34m 20s\n",
      "INFO:tensorflow:Oracle triggered exit\n"
     ]
    }
   ],
   "source": [
    "from kerastuner import HyperModel\n",
    "from kerastuner.tuners import RandomSearch\n",
    "from kerastuner import Objective\n",
    "\n",
    "class MlpTrainableEmbeddings(HyperModel):\n",
    "\n",
    "    def __init__(self, num_classes, vocab_size, max_len, embedding_matrix):\n",
    "        self.num_classes = num_classes\n",
    "        self.vocab_size = vocab_size\n",
    "        self.max_len = max_len\n",
    "        self.embedding_matrix = embedding_matrix\n",
    "\n",
    "    def build(self, hp):\n",
    "        \n",
    "        hp_dense_1 = hp.Int('units_1', min_value=32, max_value=64, step=16)\n",
    "        hp_dense_2 = hp.Int('units_2', min_value=8, max_value=16, step=8)\n",
    "        hp_dropout_1 = hp.Float('dropout_1', 0, 0.2, step=0.1)\n",
    "        hp_dropout_2 = hp.Float('dropout_2', 0.2, 0.4, step=0.2)\n",
    "        hp_learning_rate = hp.Choice('learning_rate', values=[1e-3, 1e-4])\n",
    "\n",
    "        model = Sequential()\n",
    "        model.add(Embedding(self.vocab_size, self.embedding_matrix.shape[1]\n",
    "                            , weights=[self.embedding_matrix], input_length=self.max_len, trainable=True))\n",
    "        model.add(AveragePooling1D(pool_size=self.max_len))\n",
    "        model.add(Flatten())\n",
    "\n",
    "        model.add(Dense(units = hp_dense_1, activation='relu'))\n",
    "        model.add(Dropout(rate = hp_dropout_1))\n",
    "\n",
    "        model.add(Dense(units = hp_dense_2, activation='relu'))\n",
    "        model.add(Dropout(rate = hp_dropout_2))\n",
    "\n",
    "        model.add(Dense(self.num_classes, activation='softmax'))\n",
    "\n",
    "        model.compile(\n",
    "            optimizer=Adam(learning_rate=hp_learning_rate),\n",
    "            loss='categorical_crossentropy',\n",
    "            metrics=['accuracy'])\n",
    "        return model\n",
    "\n",
    "\n",
    "mlp_trainable_embed = MlpTrainableEmbeddings(3, vocab_size, max_len, embedding_matrix)\n",
    "\n",
    "tuner = RandomSearch(\n",
    "    mlp_trainable_embed,\n",
    "    objective='val_loss',\n",
    "    max_trials=30,\n",
    "    directory='trainable_embeddings',\n",
    "    project_name='MLP',\n",
    "    seed = 1234,\n",
    "\n",
    "    )\n",
    "\n",
    "with tf.device('/device:GPU:0'):\n",
    "    tuner.search(train_padded_docs_mlp, y_train,\n",
    "                epochs=30,\n",
    "                validation_data=(val_padded_docs_mlp, y_val),\n",
    "                batch_size=64,\n",
    "                callbacks=[\n",
    "                    Metrics(valid_data=(val_padded_docs_mlp, y_val))\n",
    "                    ,EarlyStopping(monitor='val_loss', patience=5, restore_best_weights=True, mode='min')\n",
    "                    ]\n",
    "                )"
   ]
  },
  {
   "cell_type": "markdown",
   "metadata": {
    "id": "ybJTg-trfHoF"
   },
   "source": [
    "## Fitting"
   ]
  },
  {
   "cell_type": "code",
   "execution_count": null,
   "metadata": {
    "colab": {
     "base_uri": "https://localhost:8080/"
    },
    "id": "0hmyM1h1_E4j",
    "outputId": "59cf067e-9638-49da-bb55-fa8ed4325bec"
   },
   "outputs": [
    {
     "name": "stdout",
     "output_type": "stream",
     "text": [
      "Model: \"sequential\"\n",
      "_________________________________________________________________\n",
      "Layer (type)                 Output Shape              Param #   \n",
      "=================================================================\n",
      "embedding (Embedding)        (None, 15, 300)           2502000   \n",
      "_________________________________________________________________\n",
      "average_pooling1d (AveragePo (None, 1, 300)            0         \n",
      "_________________________________________________________________\n",
      "flatten (Flatten)            (None, 300)               0         \n",
      "_________________________________________________________________\n",
      "dense (Dense)                (None, 48)                14448     \n",
      "_________________________________________________________________\n",
      "dropout (Dropout)            (None, 48)                0         \n",
      "_________________________________________________________________\n",
      "dense_1 (Dense)              (None, 16)                784       \n",
      "_________________________________________________________________\n",
      "dropout_1 (Dropout)          (None, 16)                0         \n",
      "_________________________________________________________________\n",
      "dense_2 (Dense)              (None, 3)                 51        \n",
      "=================================================================\n",
      "Total params: 2,517,283\n",
      "Trainable params: 2,517,283\n",
      "Non-trainable params: 0\n",
      "_________________________________________________________________\n",
      "None\n",
      "Epoch 1/30\n",
      "156/156 [==============================] - 5s 28ms/step - loss: 1.0637 - accuracy: 0.4100 - val_loss: 0.8943 - val_accuracy: 0.6324\n",
      " — val_f1: 0.277355 — val_precision: 0.453022 — val_recall: 0.342813\n",
      "Epoch 2/30\n",
      "156/156 [==============================] - 4s 26ms/step - loss: 0.8763 - accuracy: 0.6229 - val_loss: 0.8021 - val_accuracy: 0.6472\n",
      " — val_f1: 0.341168 — val_precision: 0.669705 — val_recall: 0.376626\n",
      "Epoch 3/30\n",
      "156/156 [==============================] - 4s 26ms/step - loss: 0.8166 - accuracy: 0.6404 - val_loss: 0.7487 - val_accuracy: 0.6798\n",
      " — val_f1: 0.446675 — val_precision: 0.704213 — val_recall: 0.448507\n",
      "Epoch 4/30\n",
      "156/156 [==============================] - 4s 26ms/step - loss: 0.7637 - accuracy: 0.6728 - val_loss: 0.7036 - val_accuracy: 0.6967\n",
      " — val_f1: 0.487804 — val_precision: 0.691425 — val_recall: 0.485439\n",
      "Epoch 5/30\n",
      "156/156 [==============================] - 4s 27ms/step - loss: 0.7121 - accuracy: 0.6953 - val_loss: 0.6648 - val_accuracy: 0.7212\n",
      " — val_f1: 0.554610 — val_precision: 0.707877 — val_recall: 0.536602\n",
      "Epoch 6/30\n",
      "156/156 [==============================] - 4s 27ms/step - loss: 0.6597 - accuracy: 0.7265 - val_loss: 0.6320 - val_accuracy: 0.7497\n",
      " — val_f1: 0.627363 — val_precision: 0.730160 — val_recall: 0.595530\n",
      "Epoch 7/30\n",
      "156/156 [==============================] - 4s 27ms/step - loss: 0.6307 - accuracy: 0.7527 - val_loss: 0.6072 - val_accuracy: 0.7654\n",
      " — val_f1: 0.665364 — val_precision: 0.739732 — val_recall: 0.634717\n",
      "Epoch 8/30\n",
      "156/156 [==============================] - 4s 27ms/step - loss: 0.6054 - accuracy: 0.7659 - val_loss: 0.5872 - val_accuracy: 0.7742\n",
      " — val_f1: 0.693722 — val_precision: 0.731383 — val_recall: 0.670344\n",
      "Epoch 9/30\n",
      "156/156 [==============================] - 4s 27ms/step - loss: 0.5736 - accuracy: 0.7766 - val_loss: 0.5688 - val_accuracy: 0.7774\n",
      " — val_f1: 0.697278 — val_precision: 0.734649 — val_recall: 0.673486\n",
      "Epoch 10/30\n",
      "156/156 [==============================] - 4s 28ms/step - loss: 0.5422 - accuracy: 0.7901 - val_loss: 0.5549 - val_accuracy: 0.7818\n",
      " — val_f1: 0.703461 — val_precision: 0.739362 — val_recall: 0.679740\n",
      "Epoch 11/30\n",
      "156/156 [==============================] - 4s 27ms/step - loss: 0.5342 - accuracy: 0.7938 - val_loss: 0.5436 - val_accuracy: 0.7847\n",
      " — val_f1: 0.711939 — val_precision: 0.734914 — val_recall: 0.694691\n",
      "Epoch 12/30\n",
      "156/156 [==============================] - 4s 27ms/step - loss: 0.5181 - accuracy: 0.7955 - val_loss: 0.5363 - val_accuracy: 0.7911\n",
      " — val_f1: 0.724143 — val_precision: 0.739755 — val_recall: 0.711299\n",
      "Epoch 13/30\n",
      "156/156 [==============================] - 4s 26ms/step - loss: 0.4716 - accuracy: 0.8272 - val_loss: 0.5278 - val_accuracy: 0.7931\n",
      " — val_f1: 0.725627 — val_precision: 0.742061 — val_recall: 0.712190\n",
      "Epoch 14/30\n",
      "156/156 [==============================] - 4s 28ms/step - loss: 0.4766 - accuracy: 0.8279 - val_loss: 0.5233 - val_accuracy: 0.7971\n",
      " — val_f1: 0.728013 — val_precision: 0.747764 — val_recall: 0.712606\n",
      "Epoch 15/30\n",
      "156/156 [==============================] - 4s 28ms/step - loss: 0.4474 - accuracy: 0.8343 - val_loss: 0.5198 - val_accuracy: 0.7979\n",
      " — val_f1: 0.730785 — val_precision: 0.749603 — val_recall: 0.715768\n",
      "Epoch 16/30\n",
      "156/156 [==============================] - 4s 28ms/step - loss: 0.4328 - accuracy: 0.8383 - val_loss: 0.5170 - val_accuracy: 0.7971\n",
      " — val_f1: 0.733513 — val_precision: 0.744375 — val_recall: 0.724096\n",
      "Epoch 17/30\n",
      "156/156 [==============================] - 4s 27ms/step - loss: 0.4240 - accuracy: 0.8436 - val_loss: 0.5154 - val_accuracy: 0.7987\n",
      " — val_f1: 0.734681 — val_precision: 0.746230 — val_recall: 0.724708\n",
      "Epoch 18/30\n",
      "156/156 [==============================] - 4s 27ms/step - loss: 0.4086 - accuracy: 0.8566 - val_loss: 0.5166 - val_accuracy: 0.7971\n",
      " — val_f1: 0.737670 — val_precision: 0.742666 — val_recall: 0.733249\n",
      "Epoch 19/30\n",
      "156/156 [==============================] - 4s 28ms/step - loss: 0.3939 - accuracy: 0.8568 - val_loss: 0.5163 - val_accuracy: 0.8007\n",
      " — val_f1: 0.736768 — val_precision: 0.752390 — val_recall: 0.723880\n",
      "Epoch 20/30\n",
      "156/156 [==============================] - 4s 27ms/step - loss: 0.3755 - accuracy: 0.8658 - val_loss: 0.5162 - val_accuracy: 0.7999\n",
      " — val_f1: 0.738485 — val_precision: 0.750333 — val_recall: 0.728239\n",
      "Epoch 21/30\n",
      "156/156 [==============================] - 4s 28ms/step - loss: 0.3803 - accuracy: 0.8666 - val_loss: 0.5183 - val_accuracy: 0.7979\n",
      " — val_f1: 0.737417 — val_precision: 0.744692 — val_recall: 0.730877\n",
      "Epoch 22/30\n",
      "156/156 [==============================] - 4s 28ms/step - loss: 0.3565 - accuracy: 0.8782 - val_loss: 0.5213 - val_accuracy: 0.7987\n",
      " — val_f1: 0.738380 — val_precision: 0.745749 — val_recall: 0.731723\n",
      "Epoch 23/30\n",
      "156/156 [==============================] - 4s 28ms/step - loss: 0.3473 - accuracy: 0.8747 - val_loss: 0.5257 - val_accuracy: 0.7983\n",
      " — val_f1: 0.734394 — val_precision: 0.749045 — val_recall: 0.722180\n",
      "\n",
      "Epoch 00023: ReduceLROnPlateau reducing learning rate to 9.999999747378752e-06.\n",
      "Epoch 24/30\n",
      "156/156 [==============================] - 4s 28ms/step - loss: 0.3446 - accuracy: 0.8778 - val_loss: 0.5250 - val_accuracy: 0.7939\n",
      " — val_f1: 0.732968 — val_precision: 0.742133 — val_recall: 0.724837\n",
      "Epoch 25/30\n",
      "156/156 [==============================] - 4s 27ms/step - loss: 0.3331 - accuracy: 0.8818 - val_loss: 0.5254 - val_accuracy: 0.7951\n",
      " — val_f1: 0.734902 — val_precision: 0.743599 — val_recall: 0.727132\n"
     ]
    }
   ],
   "source": [
    "best_hp = tuner.get_best_hyperparameters(1)[0]\n",
    "best_model = tuner.hypermodel.build(best_hp)\n",
    "print(best_model.summary())\n",
    "\n",
    "history = best_model.fit(\n",
    "    train_padded_docs_mlp, y_train,\n",
    "    epochs=30,\n",
    "    validation_data=(val_padded_docs_mlp, y_val),\n",
    "    batch_size=64,\n",
    "    callbacks=[\n",
    "        Metrics(valid_data=(val_padded_docs_mlp, y_val))\n",
    "        ,EarlyStopping(monitor='val_f1', patience=5, restore_best_weights=True, mode='max')\n",
    "    ]\n",
    ")"
   ]
  },
  {
   "cell_type": "markdown",
   "metadata": {
    "id": "0J2lc6-B5y2D"
   },
   "source": [
    "Save the model and zip it."
   ]
  },
  {
   "cell_type": "code",
   "execution_count": null,
   "metadata": {
    "colab": {
     "base_uri": "https://localhost:8080/"
    },
    "id": "N60DPA-y5Qhj",
    "outputId": "3dfa6db1-184c-454c-d895-e67beab756f5"
   },
   "outputs": [
    {
     "name": "stdout",
     "output_type": "stream",
     "text": [
      "INFO:tensorflow:Assets written to: MLP_trainable_embeddings/assets\n"
     ]
    }
   ],
   "source": [
    "best_model.save('MLP_trainable_embeddings')"
   ]
  },
  {
   "cell_type": "code",
   "execution_count": null,
   "metadata": {
    "colab": {
     "base_uri": "https://localhost:8080/"
    },
    "id": "WQZ8gpSY5l0s",
    "outputId": "429bfbf9-5a9e-4f06-fa06-92763c6b7709"
   },
   "outputs": [
    {
     "name": "stdout",
     "output_type": "stream",
     "text": [
      "  adding: MLP_trainable_embeddings/ (stored 0%)\n",
      "  adding: MLP_trainable_embeddings/variables/ (stored 0%)\n",
      "  adding: MLP_trainable_embeddings/variables/variables.index (deflated 63%)\n",
      "  adding: MLP_trainable_embeddings/variables/variables.data-00000-of-00001 (deflated 14%)\n",
      "  adding: MLP_trainable_embeddings/assets/ (stored 0%)\n",
      "  adding: MLP_trainable_embeddings/saved_model.pb (deflated 88%)\n"
     ]
    }
   ],
   "source": [
    "!zip -r MLP_trainable_embeddings.zip MLP_trainable_embeddings"
   ]
  },
  {
   "cell_type": "markdown",
   "metadata": {
    "id": "lPLctGdh6Hs0"
   },
   "source": [
    "Unzip the model and load it into colab."
   ]
  },
  {
   "cell_type": "code",
   "execution_count": null,
   "metadata": {
    "colab": {
     "base_uri": "https://localhost:8080/"
    },
    "id": "RRHRN3wa6Diu",
    "outputId": "d974c104-77cd-47e7-af18-63ac0c0a9705"
   },
   "outputs": [
    {
     "name": "stdout",
     "output_type": "stream",
     "text": [
      "Archive:  MLP_trainable_embeddings.zip\n",
      "   creating: MLP_trainable_embeddings/\n",
      "   creating: MLP_trainable_embeddings/variables/\n",
      "  inflating: MLP_trainable_embeddings/variables/variables.index  \n",
      "  inflating: MLP_trainable_embeddings/variables/variables.data-00000-of-00001  \n",
      "   creating: MLP_trainable_embeddings/assets/\n",
      "  inflating: MLP_trainable_embeddings/saved_model.pb  \n"
     ]
    }
   ],
   "source": [
    "!unzip MLP_trainable_embeddings.zip"
   ]
  },
  {
   "cell_type": "code",
   "execution_count": null,
   "metadata": {
    "id": "E8kRSEmq6qLW"
   },
   "outputs": [],
   "source": [
    "from keras import models\n",
    "mlp_trainable = models.load_model('MLP_trainable_embeddings')"
   ]
  },
  {
   "cell_type": "code",
   "execution_count": null,
   "metadata": {
    "colab": {
     "base_uri": "https://localhost:8080/",
     "height": 309
    },
    "id": "7qHKVj1JKzSO",
    "outputId": "ec6041da-4c3a-4ba2-c98e-a7c4473e3897"
   },
   "outputs": [
    {
     "data": {
      "image/png": "[encoded data removed]",
      "text/plain": [
       "<Figure size 432x288 with 1 Axes>"
      ]
     },
     "metadata": {
      "needs_background": "light",
      "tags": []
     },
     "output_type": "display_data"
    }
   ],
   "source": [
    "plt.plot(history.history['loss'])\n",
    "plt.plot(history.history['val_loss'])\n",
    "plt.title('Trainable Embeddings MLP  Loss')\n",
    "plt.ylabel('loss')\n",
    "plt.xlabel('epoch')\n",
    "plt.legend(['train', 'validation'], loc='upper right')\n",
    "plt.show()"
   ]
  },
  {
   "cell_type": "markdown",
   "metadata": {
    "id": "rlLameTGfhHd"
   },
   "source": [
    "## Results"
   ]
  },
  {
   "cell_type": "code",
   "execution_count": null,
   "metadata": {
    "colab": {
     "base_uri": "https://localhost:8080/",
     "height": 212
    },
    "id": "6nKKXBFBDiF_",
    "outputId": "bbd3332e-6447-4b99-e606-0c60232cf5d3"
   },
   "outputs": [
    {
     "data": {
      "image/png": "[encoded data removed]",
      "text/plain": [
       "<Figure size 1008x252 with 3 Axes>"
      ]
     },
     "metadata": {
      "needs_background": "light",
      "tags": []
     },
     "output_type": "display_data"
    }
   ],
   "source": [
    "res_mlp_trainable_embed = pd.DataFrame(\n",
    "    evaluation(np.argmax(mlp_trainable.predict(train_padded_docs_mlp),axis=1), train.airline_sentiment_label, 'train') \\\n",
    "    + evaluation(np.argmax(mlp_trainable.predict(val_padded_docs_mlp),axis=1), validation.airline_sentiment_label, 'val') \\\n",
    "    + evaluation(np.argmax(mlp_trainable.predict(test_padded_docs_mlp),axis=1), test.airline_sentiment_label, 'test') \\\n",
    "   ,columns = ['negative', 'neutral', 'positive', 'set', 'metric']\n",
    ")\n",
    "\n",
    "res_mlp_trainable_embed = pd.melt(res_mlp_trainable_embed, id_vars = ['set','metric'], value_vars=['negative','neutral','positive'], var_name='class', value_name='score')\n",
    "clf_plot_evaluation(res_mlp_trainable_embed, 'MLP Trainable Embeddings')"
   ]
  },
  {
   "cell_type": "code",
   "execution_count": null,
   "metadata": {
    "colab": {
     "base_uri": "https://localhost:8080/",
     "height": 167
    },
    "id": "-KjoWVEvtXRd",
    "outputId": "62f70b23-9b2d-4d19-cd0e-d0fe73205d19"
   },
   "outputs": [
    {
     "data": {
      "text/html": [
       "<div>\n",
       "<style scoped>\n",
       "    .dataframe tbody tr th:only-of-type {\n",
       "        vertical-align: middle;\n",
       "    }\n",
       "\n",
       "    .dataframe tbody tr th {\n",
       "        vertical-align: top;\n",
       "    }\n",
       "\n",
       "    .dataframe thead th {\n",
       "        text-align: right;\n",
       "    }\n",
       "</style>\n",
       "<table border=\"1\" class=\"dataframe\">\n",
       "  <thead>\n",
       "    <tr style=\"text-align: right;\">\n",
       "      <th></th>\n",
       "      <th>negative</th>\n",
       "      <th>neutral</th>\n",
       "      <th>positive</th>\n",
       "      <th>accuracy</th>\n",
       "      <th>macro avg</th>\n",
       "      <th>weighted avg</th>\n",
       "    </tr>\n",
       "  </thead>\n",
       "  <tbody>\n",
       "    <tr>\n",
       "      <th>precision</th>\n",
       "      <td>0.899709</td>\n",
       "      <td>0.559140</td>\n",
       "      <td>0.670423</td>\n",
       "      <td>0.790528</td>\n",
       "      <td>0.709757</td>\n",
       "      <td>0.803193</td>\n",
       "    </tr>\n",
       "    <tr>\n",
       "      <th>recall</th>\n",
       "      <td>0.839891</td>\n",
       "      <td>0.623501</td>\n",
       "      <td>0.780328</td>\n",
       "      <td>0.790528</td>\n",
       "      <td>0.747907</td>\n",
       "      <td>0.790528</td>\n",
       "    </tr>\n",
       "    <tr>\n",
       "      <th>f1-score</th>\n",
       "      <td>0.868772</td>\n",
       "      <td>0.589569</td>\n",
       "      <td>0.721212</td>\n",
       "      <td>0.790528</td>\n",
       "      <td>0.726518</td>\n",
       "      <td>0.795259</td>\n",
       "    </tr>\n",
       "    <tr>\n",
       "      <th>support</th>\n",
       "      <td>1474.000000</td>\n",
       "      <td>417.000000</td>\n",
       "      <td>305.000000</td>\n",
       "      <td>0.790528</td>\n",
       "      <td>2196.000000</td>\n",
       "      <td>2196.000000</td>\n",
       "    </tr>\n",
       "  </tbody>\n",
       "</table>\n",
       "</div>"
      ],
      "text/plain": [
       "              negative     neutral  ...    macro avg  weighted avg\n",
       "precision     0.899709    0.559140  ...     0.709757      0.803193\n",
       "recall        0.839891    0.623501  ...     0.747907      0.790528\n",
       "f1-score      0.868772    0.589569  ...     0.726518      0.795259\n",
       "support    1474.000000  417.000000  ...  2196.000000   2196.000000\n",
       "\n",
       "[4 rows x 6 columns]"
      ]
     },
     "execution_count": 68,
     "metadata": {
      "tags": []
     },
     "output_type": "execute_result"
    }
   ],
   "source": [
    "predictions = mlp_trainable.predict(test_padded_docs_mlp)\n",
    "predictions = predictions.argmax(axis=1)\n",
    "from sklearn.metrics import classification_report\n",
    "cr_embed = classification_report(predictions, test.airline_sentiment_label, output_dict=True, target_names=['negative', 'neutral', 'positive'])\n",
    "pd.DataFrame(cr_embed)"
   ]
  },
  {
   "cell_type": "markdown",
   "metadata": {
    "id": "nQXO0oxfeC0m"
   },
   "source": [
    "# Bidirectional GRU\n"
   ]
  },
  {
   "cell_type": "markdown",
   "metadata": {
    "id": "ybO-kBAk_BiT"
   },
   "source": [
    "For this approach we will use Stacked Bidirectinal GRUs with an custom Attention layer. Since we implement RNNs and not BOW, we need to account for the unknown tokens inside the sentence."
   ]
  },
  {
   "cell_type": "code",
   "execution_count": null,
   "metadata": {
    "id": "9jlFZ495-XJU"
   },
   "outputs": [],
   "source": [
    "t = Tokenizer(oov_token='__UNK__')\n",
    "t.fit_on_texts(train.cleaned_text)\n",
    "vocab_size = len(t.word_index) + 1\n",
    "encoded_docs = t.texts_to_sequences(train.cleaned_text)\n",
    "max_len = 32\n",
    "train_padded_docs = pad_sequences(encoded_docs, maxlen=max_len, padding='post')\n",
    "y_train = np.vstack(train.airline_sentiment_label_one_hot)"
   ]
  },
  {
   "cell_type": "code",
   "execution_count": null,
   "metadata": {
    "id": "84WZG2iP-XJV"
   },
   "outputs": [],
   "source": [
    "val_encoded_docs = t.texts_to_sequences(validation.cleaned_text)\n",
    "val_padded_docs = pad_sequences(val_encoded_docs, maxlen=max_len, padding='post')\n",
    "y_val = np.vstack(validation.airline_sentiment_label_one_hot)\n",
    "\n",
    "test_encoded_docs = t.texts_to_sequences(test.cleaned_text)\n",
    "test_padded_docs = pad_sequences(test_encoded_docs, maxlen=max_len, padding='post')\n",
    "y_test = np.vstack(test.airline_sentiment_label_one_hot)"
   ]
  },
  {
   "cell_type": "markdown",
   "metadata": {
    "id": "gFkyfBqT_b7H"
   },
   "source": [
    "We create the embedding matrix as a left join between the Vocabulary and the pretrained Glove Embeddings."
   ]
  },
  {
   "cell_type": "code",
   "execution_count": null,
   "metadata": {
    "id": "KrjRXIWl-XJW"
   },
   "outputs": [],
   "source": [
    "vocabulary = pd.DataFrame.from_dict(data=t.word_index, orient='index')\n",
    "embedding_matrix = pd.merge(vocabulary, pretrained_embeddings, how='left', right_index=True, left_index=True)\n",
    "embedding_matrix = embedding_matrix.iloc[:,1:]\n",
    "embedding_matrix = embedding_matrix.loc[vocabulary.index]\n",
    "embedding_matrix = embedding_matrix.fillna(embedding_matrix.mean())\n",
    "embedding_matrix = np.vstack((np.zeros((1, embedding_matrix.shape[1])),\n",
    "                       embedding_matrix))"
   ]
  },
  {
   "cell_type": "markdown",
   "metadata": {
    "id": "uZfWTiB8w_7b"
   },
   "source": [
    "For deciding the max length of each input sequence we can check"
   ]
  },
  {
   "cell_type": "code",
   "execution_count": null,
   "metadata": {
    "colab": {
     "base_uri": "https://localhost:8080/",
     "height": 309
    },
    "id": "yDLs3miuw-zG",
    "outputId": "c9e52b17-70b2-4fa2-bfe3-7c1ddfabd410"
   },
   "outputs": [
    {
     "data": {
      "image/png": "[encoded data removed]",
      "text/plain": [
       "<Figure size 432x288 with 1 Axes>"
      ]
     },
     "metadata": {
      "needs_background": "light",
      "tags": []
     },
     "output_type": "display_data"
    }
   ],
   "source": [
    "sns.kdeplot(train.cleaned_text.apply(lambda x: len(x.split())), label = 'Train')\n",
    "sns.kdeplot(validation.cleaned_text.apply(lambda x: len(x.split())), label = 'Validation')\n",
    "sns.kdeplot(test.cleaned_text.apply(lambda x: len(x.split())), label = 'Test')\n",
    "plt.xlabel('Sentence Length')\n",
    "plt.title('Sentence Length Distribution')\n",
    "plt.legend()\n",
    "plt.show()"
   ]
  },
  {
   "cell_type": "markdown",
   "metadata": {
    "id": "RzcV0bUkAR5m"
   },
   "source": [
    "## The Attention Layer class"
   ]
  },
  {
   "cell_type": "code",
   "execution_count": null,
   "metadata": {
    "id": "wt8jSFzKAWci"
   },
   "outputs": [],
   "source": [
    "import tensorflow as tf\n",
    "import tensorflow.keras.backend as K\n",
    "from tensorflow.keras import initializers, regularizers, constraints\n",
    "from tensorflow.keras.layers import Layer\n",
    "import numpy as np\n",
    "\n",
    "def dot_product(x, kernel):\n",
    "    \"\"\"\n",
    "    Wrapper for dot product operation, in order to be compatible with both\n",
    "    Theano and Tensorflow\n",
    "    Args:\n",
    "        x (): input\n",
    "        kernel (): weights\n",
    "    Returns:\n",
    "    \"\"\"\n",
    "    if K.backend() == 'tensorflow':\n",
    "      return K.squeeze(K.dot(x, K.expand_dims(kernel)), axis=-1)\n",
    "    else:\n",
    "      return K.dot(x, kernel)\n",
    "\n",
    "class DeepAttention(Layer):\n",
    "    def __init__(self,\n",
    "                 kernel_regularizer=None, u_regularizer=None, bias_regularizer=None,\n",
    "                 W_constraint=None, u_constraint=None, b_constraint=None,\n",
    "                 bias=True,\n",
    "                 return_attention=False,\n",
    "                 hidden_units=16,\n",
    "                 **kwargs):\n",
    "\n",
    "        self.supports_masking = True\n",
    "        self.init = initializers.get('glorot_uniform')\n",
    "\n",
    "        self.W_regularizer = regularizers.get(kernel_regularizer)\n",
    "        self.u_regularizer = regularizers.get(u_regularizer)\n",
    "        self.b1_regularizer = regularizers.get(bias_regularizer)\n",
    "        self.b2_regularizer = regularizers.get(bias_regularizer)\n",
    "\n",
    "        self.W_constraint = constraints.get(W_constraint)\n",
    "        self.u_constraint = constraints.get(u_constraint)\n",
    "        self.b1_constraint = constraints.get(b_constraint)\n",
    "        self.b2_constraint = constraints.get(b_constraint)\n",
    "\n",
    "        self.bias = bias\n",
    "        self.return_attention = return_attention\n",
    "        self.hidden_units = hidden_units\n",
    "        super(DeepAttention, self).__init__(**kwargs)\n",
    "\n",
    "    def build(self, input_shape):\n",
    "        assert len(input_shape) == 3\n",
    "\n",
    "        self.W = self.add_weight(shape=(self.hidden_units, input_shape[-1],),\n",
    "                                 initializer=self.init,\n",
    "                                 name='{}_W'.format(self.name),\n",
    "                                 regularizer=self.W_regularizer,\n",
    "                                 constraint=self.W_constraint)\n",
    "        if self.bias:\n",
    "            self.b1 = self.add_weight(shape=(self.hidden_units,),\n",
    "                                     initializer='zero',\n",
    "                                     name='{}_b1'.format(self.name),\n",
    "                                     regularizer=self.b1_regularizer,\n",
    "                                     constraint=self.b1_constraint)\n",
    "            self.b2 = self.add_weight(shape=(1,),\n",
    "                                     initializer='zero',\n",
    "                                     name='{}_b2'.format(self.name),\n",
    "                                     regularizer=self.b2_regularizer,\n",
    "                                     constraint=self.b2_constraint)\n",
    "        else:\n",
    "            self.b1 = None\n",
    "            self.b2 = None\n",
    "\n",
    "        self.u = self.add_weight(shape=(self.hidden_units,),\n",
    "                                 initializer=self.init,\n",
    "                                 name='{}_u'.format(self.name),\n",
    "                                 regularizer=self.u_regularizer,\n",
    "                                 constraint=self.u_constraint)\n",
    "\n",
    "        self.built = True\n",
    "\n",
    "\n",
    "    def compute_mask(self, inputs, mask=None):\n",
    "        # do not pass the mask to the next layers\n",
    "        if self.return_attention:\n",
    "            return [None, None]\n",
    "        return None\n",
    "\n",
    "    def call(self, x, mask=None):\n",
    "        # uit = tanh(Wx + b)\n",
    "        uit = dot_product(x, self.W)\n",
    "\n",
    "        if self.bias:\n",
    "            uit += self.b1\n",
    "\n",
    "        uit = K.tanh(uit)\n",
    "\n",
    "        # ait = softmax(Ueij)\n",
    "        eij = dot_product(uit, self.u)\n",
    "        if self.bias:\n",
    "            eij += self.b2\n",
    "\n",
    "        # Apply mask\n",
    "        if mask is not None:\n",
    "            eij *= K.cast(mask, K.floatx())\n",
    "\n",
    "        a = K.expand_dims(K.softmax(eij, axis=-1))\n",
    "        \n",
    "        weighted_input = x * a\n",
    "        result = K.sum(weighted_input, axis=1)\n",
    "\n",
    "        if self.return_attention:\n",
    "            return [result, a]\n",
    "        return result\n",
    "\n",
    "    def compute_output_shape(self, input_shape):\n",
    "        if self.return_attention:\n",
    "            return [(input_shape[0], input_shape[-1]),\n",
    "                    (input_shape[0], input_shape[1])]\n",
    "        else:\n",
    "            return input_shape[0], input_shape[-1]"
   ]
  },
  {
   "cell_type": "markdown",
   "metadata": {
    "id": "a-wlwVLCRJUS"
   },
   "source": [
    "## Bidirectional GRU with Attention Layer Hypermodel"
   ]
  },
  {
   "cell_type": "code",
   "execution_count": null,
   "metadata": {
    "id": "80Q0ahPvJhE7"
   },
   "outputs": [],
   "source": [
    "import shutil\n",
    "shutil.rmtree('GRU_BIDIR_DEEP_ATTENTION')"
   ]
  },
  {
   "cell_type": "code",
   "execution_count": null,
   "metadata": {
    "colab": {
     "base_uri": "https://localhost:8080/"
    },
    "id": "p_0RGifaR60h",
    "outputId": "82ec251b-4577-4a4e-c0b6-2518c232fcd4"
   },
   "outputs": [
    {
     "name": "stdout",
     "output_type": "stream",
     "text": [
      "Trial 30 Complete [00h 02m 26s]\n",
      "val_loss: 0.4918695390224457\n",
      "\n",
      "Best val_loss So Far: 0.4734945595264435\n",
      "Total elapsed time: 01h 37m 43s\n",
      "INFO:tensorflow:Oracle triggered exit\n"
     ]
    }
   ],
   "source": [
    "import tensorflow as tf\n",
    "from tensorflow.keras.layers import Dense, Dropout, Bidirectional, GRU, Embedding, Input\n",
    "from tensorflow.keras.optimizers import Adam\n",
    "import tensorflow.keras.backend as K\n",
    "from tensorflow.keras import Model\n",
    "from kerastuner import HyperModel\n",
    "from kerastuner.tuners import RandomSearch, BayesianOptimization\n",
    "from kerastuner import Objective\n",
    "\n",
    "class GruDeepAttention(HyperModel):\n",
    "\n",
    "    def __init__(self, num_classes, vocab_size, max_len, embedding_matrix):\n",
    "        super().__init__()\n",
    "        self.num_classes = num_classes\n",
    "        self.vocab_size = vocab_size\n",
    "        self.max_len = max_len\n",
    "        self.embedding_matrix = embedding_matrix\n",
    "        \n",
    "\n",
    "    def build(self, hp):\n",
    "    \n",
    "        hp_attention = hp.Int('attention_hidden_units', min_value=32, max_value=64, step=16)    \n",
    "        hp_learning_rate = hp.Choice('learning_rate', values=[1e-3, 1e-4])\n",
    "\n",
    "\n",
    "        model = Sequential()\n",
    "        model.add( Embedding(input_dim=self.vocab_size, output_dim=self.embedding_matrix.shape[1], weights=[self.embedding_matrix], \n",
    "                         input_length=self.max_len, mask_zero=True, trainable=True))\n",
    "\n",
    "        # Define dynic bidirectional layers\n",
    "        for i in range(hp.Int('num_layers', 1, 3)):\n",
    "            model.add(Bidirectional(\n",
    "                GRU(\n",
    "                    units=hp.Int('units_' + str(i),\n",
    "                        min_value=128,\n",
    "                        max_value=256,\n",
    "                        step=64)\n",
    "                    ,return_sequences=True\n",
    "                    ,recurrent_dropout = hp.Float('recurrent_dropout_' + str(i),\n",
    "                        min_value=0.2,\n",
    "                        max_value=0.5,\n",
    "                        step=0.1)\n",
    "                    )\n",
    "                )\n",
    "            )\n",
    "       \n",
    "        model.add(DeepAttention(return_attention=False, hidden_units=hp_attention))\n",
    "\n",
    "        model.add(Dense(self.num_classes, activation='softmax'))\n",
    "        print(model.summary())\n",
    "\n",
    "        model.compile(loss='categorical_crossentropy',\n",
    "                 optimizer=Adam(lr=hp_learning_rate),\n",
    "                 metrics=[\"accuracy\"])\n",
    "\n",
    "        return model\n",
    "\n",
    "\n",
    "gru_deep_attention = GruDeepAttention(3, vocab_size, max_len, embedding_matrix)\n",
    "\n",
    "tuner = BayesianOptimization(\n",
    "    gru_deep_attention,\n",
    "    objective='val_loss',\n",
    "    max_trials=30,\n",
    "    directory='GRU_BIDIR_DEEP_ATTENTION',\n",
    "    project_name='RNN',\n",
    "    seed = 1234,\n",
    "    )\n",
    "\n",
    "with tf.device('/device:GPU:0'):\n",
    "    tuner.search(train_padded_docs, y_train,\n",
    "                epochs=30,\n",
    "                validation_data=(val_padded_docs, y_val),\n",
    "                batch_size=256,\n",
    "                callbacks=[\n",
    "                    Metrics(valid_data=(val_padded_docs, y_val))\n",
    "                    ,EarlyStopping(monitor='val_loss', patience=5, restore_best_weights=True, mode='min')\n",
    "                    ]\n",
    "                )"
   ]
  },
  {
   "cell_type": "markdown",
   "metadata": {
    "id": "iO3_afup9xkn"
   },
   "source": [
    "## Fitting"
   ]
  },
  {
   "cell_type": "code",
   "execution_count": null,
   "metadata": {
    "colab": {
     "base_uri": "https://localhost:8080/"
    },
    "id": "V_FQY1T09w0b",
    "outputId": "3c9fda30-a802-4f11-82c8-2fbe1aa661c7"
   },
   "outputs": [
    {
     "name": "stdout",
     "output_type": "stream",
     "text": [
      "WARNING:tensorflow:Layer gru will not use cuDNN kernel since it doesn't meet the cuDNN kernel criteria. It will use generic GPU kernel as fallback when running on GPU\n",
      "WARNING:tensorflow:Layer gru will not use cuDNN kernel since it doesn't meet the cuDNN kernel criteria. It will use generic GPU kernel as fallback when running on GPU\n",
      "WARNING:tensorflow:Layer gru will not use cuDNN kernel since it doesn't meet the cuDNN kernel criteria. It will use generic GPU kernel as fallback when running on GPU\n",
      "Model: \"sequential\"\n",
      "_________________________________________________________________\n",
      "Layer (type)                 Output Shape              Param #   \n",
      "=================================================================\n",
      "embedding (Embedding)        (None, 32, 300)           3277800   \n",
      "_________________________________________________________________\n",
      "bidirectional (Bidirectional (None, 32, 256)           330240    \n",
      "_________________________________________________________________\n",
      "deep_attention (DeepAttentio (None, 256)               12385     \n",
      "_________________________________________________________________\n",
      "dense_1 (Dense)              (None, 3)                 771       \n",
      "=================================================================\n",
      "Total params: 3,621,196\n",
      "Trainable params: 3,621,196\n",
      "Non-trainable params: 0\n",
      "_________________________________________________________________\n",
      "None\n",
      "Model: \"sequential\"\n",
      "_________________________________________________________________\n",
      "Layer (type)                 Output Shape              Param #   \n",
      "=================================================================\n",
      "embedding (Embedding)        (None, 32, 300)           3277800   \n",
      "_________________________________________________________________\n",
      "bidirectional (Bidirectional (None, 32, 256)           330240    \n",
      "_________________________________________________________________\n",
      "deep_attention (DeepAttentio (None, 256)               12385     \n",
      "_________________________________________________________________\n",
      "dense_1 (Dense)              (None, 3)                 771       \n",
      "=================================================================\n",
      "Total params: 3,621,196\n",
      "Trainable params: 3,621,196\n",
      "Non-trainable params: 0\n",
      "_________________________________________________________________\n",
      "None\n",
      "Epoch 1/30\n",
      "39/39 [==============================] - 15s 272ms/step - loss: 0.8808 - accuracy: 0.5794 - val_loss: 0.7173 - val_accuracy: 0.6621\n",
      " — val_f1: 0.382063 — val_precision: 0.782056 — val_recall: 0.400329\n",
      "Epoch 2/30\n",
      "39/39 [==============================] - 10s 258ms/step - loss: 0.6362 - accuracy: 0.7235 - val_loss: 0.5081 - val_accuracy: 0.8015\n",
      " — val_f1: 0.734375 — val_precision: 0.749354 — val_recall: 0.724796\n",
      "Epoch 3/30\n",
      "39/39 [==============================] - 10s 255ms/step - loss: 0.4391 - accuracy: 0.8302 - val_loss: 0.4782 - val_accuracy: 0.8168\n",
      " — val_f1: 0.746926 — val_precision: 0.785001 — val_recall: 0.728656\n",
      "Epoch 4/30\n",
      "39/39 [==============================] - 10s 254ms/step - loss: 0.3268 - accuracy: 0.8811 - val_loss: 0.4857 - val_accuracy: 0.8160\n",
      " — val_f1: 0.755625 — val_precision: 0.769095 — val_recall: 0.745031\n",
      "Epoch 5/30\n",
      "39/39 [==============================] - 10s 254ms/step - loss: 0.2284 - accuracy: 0.9220 - val_loss: 0.5425 - val_accuracy: 0.8100\n",
      " — val_f1: 0.752115 — val_precision: 0.771036 — val_recall: 0.738336\n",
      "Epoch 6/30\n",
      "39/39 [==============================] - 10s 259ms/step - loss: 0.1695 - accuracy: 0.9419 - val_loss: 0.6297 - val_accuracy: 0.8007\n",
      " — val_f1: 0.749963 — val_precision: 0.752368 — val_recall: 0.750630\n",
      "Epoch 7/30\n",
      "39/39 [==============================] - 10s 249ms/step - loss: 0.1195 - accuracy: 0.9615 - val_loss: 0.7205 - val_accuracy: 0.7887\n",
      " — val_f1: 0.735077 — val_precision: 0.737645 — val_recall: 0.734431\n",
      "Epoch 8/30\n",
      "39/39 [==============================] - 10s 246ms/step - loss: 0.0856 - accuracy: 0.9740 - val_loss: 0.8143 - val_accuracy: 0.7879\n",
      " — val_f1: 0.724587 — val_precision: 0.747279 — val_recall: 0.708264\n"
     ]
    }
   ],
   "source": [
    "best_hp = tuner.get_best_hyperparameters(1)[0]\n",
    "best_model = tuner.hypermodel.build(best_hp)\n",
    "print(best_model.summary())\n",
    "\n",
    "history = best_model.fit(\n",
    "    train_padded_docs, y_train,\n",
    "    epochs=30,\n",
    "    validation_data=(val_padded_docs, y_val),\n",
    "    batch_size=256,\n",
    "    callbacks=[\n",
    "        Metrics(valid_data=(val_padded_docs, y_val))\n",
    "        ,EarlyStopping(monitor='val_loss', patience=5, restore_best_weights=True, mode='min')\n",
    "    ]\n",
    ")"
   ]
  },
  {
   "cell_type": "code",
   "execution_count": null,
   "metadata": {
    "colab": {
     "base_uri": "https://localhost:8080/",
     "height": 309
    },
    "id": "aUbu74mjBOJG",
    "outputId": "274971f8-26db-4686-92e7-a0b30daa02ee"
   },
   "outputs": [
    {
     "data": {
      "image/png": "[encoded data removed]",
      "text/plain": [
       "<Figure size 432x288 with 1 Axes>"
      ]
     },
     "metadata": {
      "needs_background": "light",
      "tags": []
     },
     "output_type": "display_data"
    }
   ],
   "source": [
    "plt.plot(history.history['loss'])\n",
    "plt.plot(history.history['val_loss'])\n",
    "plt.title('Trainable Embeddings MLP  Loss')\n",
    "plt.ylabel('loss')\n",
    "plt.xlabel('epoch')\n",
    "plt.legend(['train', 'validation'], loc='upper right')\n",
    "plt.show()"
   ]
  },
  {
   "cell_type": "markdown",
   "metadata": {
    "id": "ZMQeCuSR9uEq"
   },
   "source": [
    "Save the model and zip it."
   ]
  },
  {
   "cell_type": "code",
   "execution_count": null,
   "metadata": {
    "colab": {
     "base_uri": "https://localhost:8080/"
    },
    "id": "bxF6DXNr9uE2",
    "outputId": "15fad975-9bb5-4ad9-b80a-38479d88857d"
   },
   "outputs": [
    {
     "name": "stdout",
     "output_type": "stream",
     "text": [
      "INFO:tensorflow:Assets written to: bidirerctional_deep_attention/assets\n"
     ]
    }
   ],
   "source": [
    "best_model.save('bidirerctional_deep_attention')"
   ]
  },
  {
   "cell_type": "code",
   "execution_count": null,
   "metadata": {
    "colab": {
     "base_uri": "https://localhost:8080/"
    },
    "id": "YqV_Xz0t9uE5",
    "outputId": "22f17f92-3e22-4414-964c-826a51db0ddf"
   },
   "outputs": [
    {
     "name": "stdout",
     "output_type": "stream",
     "text": [
      "  adding: bidirerctional_deep_attention/ (stored 0%)\n",
      "  adding: bidirerctional_deep_attention/variables/ (stored 0%)\n",
      "  adding: bidirerctional_deep_attention/variables/variables.data-00000-of-00001 (deflated 6%)\n",
      "  adding: bidirerctional_deep_attention/variables/variables.index (deflated 69%)\n",
      "  adding: bidirerctional_deep_attention/assets/ (stored 0%)\n",
      "  adding: bidirerctional_deep_attention/saved_model.pb (deflated 90%)\n"
     ]
    }
   ],
   "source": [
    "!zip -r bidirerctional_deep_attention.zip bidirerctional_deep_attention"
   ]
  },
  {
   "cell_type": "markdown",
   "metadata": {
    "id": "k7MHRRzk9uE6"
   },
   "source": [
    "Unzip the model and load it into colab."
   ]
  },
  {
   "cell_type": "code",
   "execution_count": null,
   "metadata": {
    "colab": {
     "base_uri": "https://localhost:8080/"
    },
    "id": "xVSTAwH09uE7",
    "outputId": "b6fda70a-7ace-42ab-c201-8f4dc83f2ccc"
   },
   "outputs": [
    {
     "name": "stdout",
     "output_type": "stream",
     "text": [
      "Archive:  bidirerctional_deep_attention.zip\n",
      "replace bidirerctional_deep_attention/variables/variables.data-00000-of-00001? [y]es, [n]o, [A]ll, [N]one, [r]ename: A\n",
      "  inflating: bidirerctional_deep_attention/variables/variables.data-00000-of-00001  \n",
      "  inflating: bidirerctional_deep_attention/variables/variables.index  \n",
      "  inflating: bidirerctional_deep_attention/saved_model.pb  \n"
     ]
    }
   ],
   "source": [
    "!unzip bidirerctional_deep_attention.zip"
   ]
  },
  {
   "cell_type": "code",
   "execution_count": null,
   "metadata": {
    "colab": {
     "base_uri": "https://localhost:8080/"
    },
    "id": "Z1_FLvb39uE9",
    "outputId": "5e502f4e-b385-48b0-aaf5-376c6a1a6335"
   },
   "outputs": [
    {
     "name": "stdout",
     "output_type": "stream",
     "text": [
      "WARNING:tensorflow:Layer gru will not use cuDNN kernel since it doesn't meet the cuDNN kernel criteria. It will use generic GPU kernel as fallback when running on GPU\n",
      "WARNING:tensorflow:Layer gru will not use cuDNN kernel since it doesn't meet the cuDNN kernel criteria. It will use generic GPU kernel as fallback when running on GPU\n",
      "WARNING:tensorflow:Layer gru will not use cuDNN kernel since it doesn't meet the cuDNN kernel criteria. It will use generic GPU kernel as fallback when running on GPU\n",
      "WARNING:tensorflow:Layer gru_1 will not use cuDNN kernel since it doesn't meet the cuDNN kernel criteria. It will use generic GPU kernel as fallback when running on GPU\n",
      "WARNING:tensorflow:Layer gru_1 will not use cuDNN kernel since it doesn't meet the cuDNN kernel criteria. It will use generic GPU kernel as fallback when running on GPU\n",
      "WARNING:tensorflow:Layer gru_1 will not use cuDNN kernel since it doesn't meet the cuDNN kernel criteria. It will use generic GPU kernel as fallback when running on GPU\n"
     ]
    }
   ],
   "source": [
    "from keras import models\n",
    "bidirerctional_deep_attention = models.load_model('bidirerctional_deep_attention')"
   ]
  },
  {
   "cell_type": "markdown",
   "metadata": {
    "id": "DgESD9fHBOJH"
   },
   "source": [
    "## Results"
   ]
  },
  {
   "cell_type": "code",
   "execution_count": null,
   "metadata": {
    "colab": {
     "base_uri": "https://localhost:8080/",
     "height": 212
    },
    "id": "PDIb3BTGBOJK",
    "outputId": "74240f42-d28a-4b73-c228-7685efd3046a"
   },
   "outputs": [
    {
     "data": {
      "image/png": "[encoded data removed]",
      "text/plain": [
       "<Figure size 1008x252 with 3 Axes>"
      ]
     },
     "metadata": {
      "needs_background": "light",
      "tags": []
     },
     "output_type": "display_data"
    }
   ],
   "source": [
    "res_bidirerctional_deep_attention = pd.DataFrame(\n",
    "    evaluation(np.argmax(bidirerctional_deep_attention.predict(train_padded_docs),axis=1), train.airline_sentiment_label, 'train') \\\n",
    "    + evaluation(np.argmax(bidirerctional_deep_attention.predict(val_padded_docs),axis=1), validation.airline_sentiment_label, 'val') \\\n",
    "    + evaluation(np.argmax(bidirerctional_deep_attention.predict(test_padded_docs),axis=1), test.airline_sentiment_label, 'test') \\\n",
    "   ,columns = ['negative', 'neutral', 'positive', 'set', 'metric']\n",
    ")\n",
    "\n",
    "res_bidirerctional_deep_attention = pd.melt(res_bidirerctional_deep_attention, id_vars = ['set','metric'], value_vars=['negative','neutral','positive'], var_name='class', value_name='score')\n",
    "clf_plot_evaluation(res_bidirerctional_deep_attention, 'Bidirectional GRU w/ Deep Attention')"
   ]
  },
  {
   "cell_type": "code",
   "execution_count": null,
   "metadata": {
    "colab": {
     "base_uri": "https://localhost:8080/",
     "height": 167
    },
    "id": "9r1tt7uHBOJM",
    "outputId": "c06098ee-70cf-4c61-c6e9-f036d50185c5"
   },
   "outputs": [
    {
     "data": {
      "text/html": [
       "<div>\n",
       "<style scoped>\n",
       "    .dataframe tbody tr th:only-of-type {\n",
       "        vertical-align: middle;\n",
       "    }\n",
       "\n",
       "    .dataframe tbody tr th {\n",
       "        vertical-align: top;\n",
       "    }\n",
       "\n",
       "    .dataframe thead th {\n",
       "        text-align: right;\n",
       "    }\n",
       "</style>\n",
       "<table border=\"1\" class=\"dataframe\">\n",
       "  <thead>\n",
       "    <tr style=\"text-align: right;\">\n",
       "      <th></th>\n",
       "      <th>negative</th>\n",
       "      <th>neutral</th>\n",
       "      <th>positive</th>\n",
       "      <th>accuracy</th>\n",
       "      <th>macro avg</th>\n",
       "      <th>weighted avg</th>\n",
       "    </tr>\n",
       "  </thead>\n",
       "  <tbody>\n",
       "    <tr>\n",
       "      <th>precision</th>\n",
       "      <td>0.903343</td>\n",
       "      <td>0.576344</td>\n",
       "      <td>0.726761</td>\n",
       "      <td>0.805556</td>\n",
       "      <td>0.735483</td>\n",
       "      <td>0.815136</td>\n",
       "    </tr>\n",
       "    <tr>\n",
       "      <th>recall</th>\n",
       "      <td>0.857241</td>\n",
       "      <td>0.650485</td>\n",
       "      <td>0.772455</td>\n",
       "      <td>0.805556</td>\n",
       "      <td>0.760061</td>\n",
       "      <td>0.805556</td>\n",
       "    </tr>\n",
       "    <tr>\n",
       "      <th>f1-score</th>\n",
       "      <td>0.879689</td>\n",
       "      <td>0.611174</td>\n",
       "      <td>0.748911</td>\n",
       "      <td>0.805556</td>\n",
       "      <td>0.746592</td>\n",
       "      <td>0.809421</td>\n",
       "    </tr>\n",
       "    <tr>\n",
       "      <th>support</th>\n",
       "      <td>1450.000000</td>\n",
       "      <td>412.000000</td>\n",
       "      <td>334.000000</td>\n",
       "      <td>0.805556</td>\n",
       "      <td>2196.000000</td>\n",
       "      <td>2196.000000</td>\n",
       "    </tr>\n",
       "  </tbody>\n",
       "</table>\n",
       "</div>"
      ],
      "text/plain": [
       "              negative     neutral  ...    macro avg  weighted avg\n",
       "precision     0.903343    0.576344  ...     0.735483      0.815136\n",
       "recall        0.857241    0.650485  ...     0.760061      0.805556\n",
       "f1-score      0.879689    0.611174  ...     0.746592      0.809421\n",
       "support    1450.000000  412.000000  ...  2196.000000   2196.000000\n",
       "\n",
       "[4 rows x 6 columns]"
      ]
     },
     "execution_count": 43,
     "metadata": {
      "tags": []
     },
     "output_type": "execute_result"
    }
   ],
   "source": [
    "predictions = bidirerctional_deep_attention.predict(test_padded_docs)\n",
    "predictions = predictions.argmax(axis=1)\n",
    "from sklearn.metrics import classification_report\n",
    "cr_embed = classification_report(predictions, test.airline_sentiment_label, output_dict=True, target_names=['negative', 'neutral', 'positive'])\n",
    "pd.DataFrame(cr_embed)"
   ]
  },
  {
   "cell_type": "markdown",
   "metadata": {
    "id": "cgksbVxSqbnZ"
   },
   "source": [
    "# Bidirectional GRU with ELMo embeddings"
   ]
  },
  {
   "cell_type": "code",
   "execution_count": null,
   "metadata": {
    "colab": {
     "base_uri": "https://localhost:8080/",
     "height": 1000
    },
    "id": "yC3K4_ysqcKd",
    "outputId": "4d30694e-45c1-4577-e245-bff895ffc067"
   },
   "outputs": [
    {
     "name": "stdout",
     "output_type": "stream",
     "text": [
      "Collecting tensorflow==1.13.1\n",
      "\u001b[?25l  Downloading https://files.pythonhosted.org/packages/d4/29/6b4f1e02417c3a1ccc85380f093556ffd0b35dc354078074c5195c8447f2/tensorflow-1.13.1-cp37-cp37m-manylinux1_x86_64.whl (92.6MB)\n",
      "\u001b[K     |████████████████████████████████| 92.6MB 48kB/s \n",
      "\u001b[?25hRequirement already satisfied: numpy>=1.13.3 in /usr/local/lib/python3.7/dist-packages (from tensorflow==1.13.1) (1.19.5)\n",
      "Collecting tensorflow-estimator<1.14.0rc0,>=1.13.0\n",
      "\u001b[?25l  Downloading https://files.pythonhosted.org/packages/bb/48/13f49fc3fa0fdf916aa1419013bb8f2ad09674c275b4046d5ee669a46873/tensorflow_estimator-1.13.0-py2.py3-none-any.whl (367kB)\n",
      "\u001b[K     |████████████████████████████████| 368kB 56.2MB/s \n",
      "\u001b[?25hRequirement already satisfied: grpcio>=1.8.6 in /usr/local/lib/python3.7/dist-packages (from tensorflow==1.13.1) (1.32.0)\n",
      "Collecting keras-applications>=1.0.6\n",
      "\u001b[?25l  Downloading https://files.pythonhosted.org/packages/71/e3/19762fdfc62877ae9102edf6342d71b28fbfd9dea3d2f96a882ce099b03f/Keras_Applications-1.0.8-py3-none-any.whl (50kB)\n",
      "\u001b[K     |████████████████████████████████| 51kB 8.0MB/s \n",
      "\u001b[?25hRequirement already satisfied: termcolor>=1.1.0 in /usr/local/lib/python3.7/dist-packages (from tensorflow==1.13.1) (1.1.0)\n",
      "Requirement already satisfied: wheel>=0.26 in /usr/local/lib/python3.7/dist-packages (from tensorflow==1.13.1) (0.36.2)\n",
      "Requirement already satisfied: astor>=0.6.0 in /usr/local/lib/python3.7/dist-packages (from tensorflow==1.13.1) (0.8.1)\n",
      "Requirement already satisfied: six>=1.10.0 in /usr/local/lib/python3.7/dist-packages (from tensorflow==1.13.1) (1.15.0)\n",
      "Requirement already satisfied: keras-preprocessing>=1.0.5 in /usr/local/lib/python3.7/dist-packages (from tensorflow==1.13.1) (1.1.2)\n",
      "Requirement already satisfied: absl-py>=0.1.6 in /usr/local/lib/python3.7/dist-packages (from tensorflow==1.13.1) (0.10.0)\n",
      "Requirement already satisfied: gast>=0.2.0 in /usr/local/lib/python3.7/dist-packages (from tensorflow==1.13.1) (0.3.3)\n",
      "Collecting tensorboard<1.14.0,>=1.13.0\n",
      "\u001b[?25l  Downloading https://files.pythonhosted.org/packages/0f/39/bdd75b08a6fba41f098b6cb091b9e8c7a80e1b4d679a581a0ccd17b10373/tensorboard-1.13.1-py3-none-any.whl (3.2MB)\n",
      "\u001b[K     |████████████████████████████████| 3.2MB 53.0MB/s \n",
      "\u001b[?25hRequirement already satisfied: protobuf>=3.6.1 in /usr/local/lib/python3.7/dist-packages (from tensorflow==1.13.1) (3.12.4)\n",
      "Collecting mock>=2.0.0\n",
      "  Downloading https://files.pythonhosted.org/packages/5c/03/b7e605db4a57c0f6fba744b11ef3ddf4ddebcada35022927a2b5fc623fdf/mock-4.0.3-py3-none-any.whl\n",
      "Requirement already satisfied: h5py in /usr/local/lib/python3.7/dist-packages (from keras-applications>=1.0.6->tensorflow==1.13.1) (2.10.0)\n",
      "Requirement already satisfied: werkzeug>=0.11.15 in /usr/local/lib/python3.7/dist-packages (from tensorboard<1.14.0,>=1.13.0->tensorflow==1.13.1) (1.0.1)\n",
      "Requirement already satisfied: markdown>=2.6.8 in /usr/local/lib/python3.7/dist-packages (from tensorboard<1.14.0,>=1.13.0->tensorflow==1.13.1) (3.3.4)\n",
      "Requirement already satisfied: setuptools in /usr/local/lib/python3.7/dist-packages (from protobuf>=3.6.1->tensorflow==1.13.1) (54.1.2)\n",
      "Requirement already satisfied: importlib-metadata; python_version < \"3.8\" in /usr/local/lib/python3.7/dist-packages (from markdown>=2.6.8->tensorboard<1.14.0,>=1.13.0->tensorflow==1.13.1) (3.7.2)\n",
      "Requirement already satisfied: typing-extensions>=3.6.4; python_version < \"3.8\" in /usr/local/lib/python3.7/dist-packages (from importlib-metadata; python_version < \"3.8\"->markdown>=2.6.8->tensorboard<1.14.0,>=1.13.0->tensorflow==1.13.1) (3.7.4.3)\n",
      "Requirement already satisfied: zipp>=0.5 in /usr/local/lib/python3.7/dist-packages (from importlib-metadata; python_version < \"3.8\"->markdown>=2.6.8->tensorboard<1.14.0,>=1.13.0->tensorflow==1.13.1) (3.4.1)\n",
      "Installing collected packages: mock, tensorflow-estimator, keras-applications, tensorboard, tensorflow\n",
      "  Found existing installation: tensorflow-estimator 2.4.0\n",
      "    Uninstalling tensorflow-estimator-2.4.0:\n",
      "      Successfully uninstalled tensorflow-estimator-2.4.0\n",
      "  Found existing installation: tensorboard 2.4.1\n",
      "    Uninstalling tensorboard-2.4.1:\n",
      "      Successfully uninstalled tensorboard-2.4.1\n",
      "  Found existing installation: tensorflow 2.4.1\n",
      "    Uninstalling tensorflow-2.4.1:\n",
      "      Successfully uninstalled tensorflow-2.4.1\n",
      "Successfully installed keras-applications-1.0.8 mock-4.0.3 tensorboard-1.13.1 tensorflow-1.13.1 tensorflow-estimator-1.13.0\n"
     ]
    },
    {
     "data": {
      "application/vnd.colab-display-data+json": {
       "pip_warning": {
        "packages": [
         "tensorboard",
         "tensorflow",
         "tensorflow_estimator"
        ]
       }
      }
     },
     "metadata": {
      "tags": []
     },
     "output_type": "display_data"
    },
    {
     "name": "stdout",
     "output_type": "stream",
     "text": [
      "Collecting Keras==2.2.4\n",
      "\u001b[?25l  Downloading https://files.pythonhosted.org/packages/5e/10/aa32dad071ce52b5502266b5c659451cfd6ffcbf14e6c8c4f16c0ff5aaab/Keras-2.2.4-py2.py3-none-any.whl (312kB)\n",
      "\r",
      "\u001b[K     |█                               | 10kB 24.6MB/s eta 0:00:01\r",
      "\u001b[K     |██                              | 20kB 30.2MB/s eta 0:00:01\r",
      "\u001b[K     |███▏                            | 30kB 21.0MB/s eta 0:00:01\r",
      "\u001b[K     |████▏                           | 40kB 24.7MB/s eta 0:00:01\r",
      "\u001b[K     |█████▎                          | 51kB 24.5MB/s eta 0:00:01\r",
      "\u001b[K     |██████▎                         | 61kB 27.2MB/s eta 0:00:01\r",
      "\u001b[K     |███████▍                        | 71kB 18.1MB/s eta 0:00:01\r",
      "\u001b[K     |████████▍                       | 81kB 19.1MB/s eta 0:00:01\r",
      "\u001b[K     |█████████▍                      | 92kB 17.6MB/s eta 0:00:01\r",
      "\u001b[K     |██████████▌                     | 102kB 17.8MB/s eta 0:00:01\r",
      "\u001b[K     |███████████▌                    | 112kB 17.8MB/s eta 0:00:01\r",
      "\u001b[K     |████████████▋                   | 122kB 17.8MB/s eta 0:00:01\r",
      "\u001b[K     |█████████████▋                  | 133kB 17.8MB/s eta 0:00:01\r",
      "\u001b[K     |██████████████▊                 | 143kB 17.8MB/s eta 0:00:01\r",
      "\u001b[K     |███████████████▊                | 153kB 17.8MB/s eta 0:00:01\r",
      "\u001b[K     |████████████████▊               | 163kB 17.8MB/s eta 0:00:01\r",
      "\u001b[K     |█████████████████▉              | 174kB 17.8MB/s eta 0:00:01\r",
      "\u001b[K     |██████████████████▉             | 184kB 17.8MB/s eta 0:00:01\r",
      "\u001b[K     |████████████████████            | 194kB 17.8MB/s eta 0:00:01\r",
      "\u001b[K     |█████████████████████           | 204kB 17.8MB/s eta 0:00:01\r",
      "\u001b[K     |██████████████████████          | 215kB 17.8MB/s eta 0:00:01\r",
      "\u001b[K     |███████████████████████         | 225kB 17.8MB/s eta 0:00:01\r",
      "\u001b[K     |████████████████████████▏       | 235kB 17.8MB/s eta 0:00:01\r",
      "\u001b[K     |█████████████████████████▏      | 245kB 17.8MB/s eta 0:00:01\r",
      "\u001b[K     |██████████████████████████▏     | 256kB 17.8MB/s eta 0:00:01\r",
      "\u001b[K     |███████████████████████████▎    | 266kB 17.8MB/s eta 0:00:01\r",
      "\u001b[K     |████████████████████████████▎   | 276kB 17.8MB/s eta 0:00:01\r",
      "\u001b[K     |█████████████████████████████▍  | 286kB 17.8MB/s eta 0:00:01\r",
      "\u001b[K     |██████████████████████████████▍ | 296kB 17.8MB/s eta 0:00:01\r",
      "\u001b[K     |███████████████████████████████▌| 307kB 17.8MB/s eta 0:00:01\r",
      "\u001b[K     |████████████████████████████████| 317kB 17.8MB/s \n",
      "\u001b[?25hRequirement already satisfied: scipy>=0.14 in /usr/local/lib/python3.7/dist-packages (from Keras==2.2.4) (1.4.1)\n",
      "Requirement already satisfied: keras-preprocessing>=1.0.5 in /usr/local/lib/python3.7/dist-packages (from Keras==2.2.4) (1.1.2)\n",
      "Requirement already satisfied: numpy>=1.9.1 in /usr/local/lib/python3.7/dist-packages (from Keras==2.2.4) (1.19.5)\n",
      "Requirement already satisfied: pyyaml in /usr/local/lib/python3.7/dist-packages (from Keras==2.2.4) (3.13)\n",
      "Requirement already satisfied: six>=1.9.0 in /usr/local/lib/python3.7/dist-packages (from Keras==2.2.4) (1.15.0)\n",
      "Requirement already satisfied: h5py in /usr/local/lib/python3.7/dist-packages (from Keras==2.2.4) (2.10.0)\n",
      "Requirement already satisfied: keras-applications>=1.0.6 in /usr/local/lib/python3.7/dist-packages (from Keras==2.2.4) (1.0.8)\n",
      "Installing collected packages: Keras\n",
      "  Found existing installation: Keras 2.4.3\n",
      "    Uninstalling Keras-2.4.3:\n",
      "      Successfully uninstalled Keras-2.4.3\n",
      "Successfully installed Keras-2.2.4\n"
     ]
    },
    {
     "data": {
      "application/vnd.colab-display-data+json": {
       "pip_warning": {
        "packages": [
         "keras"
        ]
       }
      }
     },
     "metadata": {
      "tags": []
     },
     "output_type": "display_data"
    },
    {
     "name": "stdout",
     "output_type": "stream",
     "text": [
      "Collecting tensorflow-hub==0.7.0\n",
      "\u001b[?25l  Downloading https://files.pythonhosted.org/packages/00/0e/a91780d07592b1abf9c91344ce459472cc19db3b67fdf3a61dca6ebb2f5c/tensorflow_hub-0.7.0-py2.py3-none-any.whl (89kB)\n",
      "\r",
      "\u001b[K     |███▊                            | 10kB 22.1MB/s eta 0:00:01\r",
      "\u001b[K     |███████▍                        | 20kB 29.7MB/s eta 0:00:01\r",
      "\u001b[K     |███████████                     | 30kB 24.7MB/s eta 0:00:01\r",
      "\u001b[K     |██████████████▊                 | 40kB 22.1MB/s eta 0:00:01\r",
      "\u001b[K     |██████████████████▍             | 51kB 24.2MB/s eta 0:00:01\r",
      "\u001b[K     |██████████████████████          | 61kB 20.6MB/s eta 0:00:01\r",
      "\u001b[K     |█████████████████████████▊      | 71kB 19.7MB/s eta 0:00:01\r",
      "\u001b[K     |█████████████████████████████▍  | 81kB 18.2MB/s eta 0:00:01\r",
      "\u001b[K     |████████████████████████████████| 92kB 8.6MB/s \n",
      "\u001b[?25hRequirement already satisfied: numpy>=1.12.0 in /usr/local/lib/python3.7/dist-packages (from tensorflow-hub==0.7.0) (1.19.5)\n",
      "Requirement already satisfied: six>=1.10.0 in /usr/local/lib/python3.7/dist-packages (from tensorflow-hub==0.7.0) (1.15.0)\n",
      "Requirement already satisfied: protobuf>=3.4.0 in /usr/local/lib/python3.7/dist-packages (from tensorflow-hub==0.7.0) (3.12.4)\n",
      "Requirement already satisfied: setuptools in /usr/local/lib/python3.7/dist-packages (from protobuf>=3.4.0->tensorflow-hub==0.7.0) (54.1.2)\n",
      "Installing collected packages: tensorflow-hub\n",
      "  Found existing installation: tensorflow-hub 0.11.0\n",
      "    Uninstalling tensorflow-hub-0.11.0:\n",
      "      Successfully uninstalled tensorflow-hub-0.11.0\n",
      "Successfully installed tensorflow-hub-0.7.0\n"
     ]
    },
    {
     "data": {
      "application/vnd.colab-display-data+json": {
       "pip_warning": {
        "packages": [
         "tensorflow_hub"
        ]
       }
      }
     },
     "metadata": {
      "tags": []
     },
     "output_type": "display_data"
    }
   ],
   "source": [
    "!pip install tensorflow==1.13.1\n",
    "!pip install Keras==2.2.4\n",
    "!pip install tensorflow-hub==0.7.0"
   ]
  },
  {
   "cell_type": "code",
   "execution_count": null,
   "metadata": {
    "id": "_ptBx3F1tjzY"
   },
   "outputs": [],
   "source": [
    "from keras.layers import Layer\n",
    "\n",
    "class ELMo(Layer):\n",
    "    def __init__(self, elmo_representation='elmo', trainable=False, **kwargs):\n",
    "        self.module_output = elmo_representation\n",
    "        self.trainable = trainable\n",
    "\n",
    "        self.elmo = None\n",
    "        super(ELMo, self).__init__(**kwargs)\n",
    "\n",
    "    def build(self, input_shape):\n",
    "        # SetUp tensorflow Hub module\n",
    "        self.elmo = hub.Module('https://tfhub.dev/google/elmo/2',\n",
    "                               trainable=self.trainable, name=\"{}_module\".format(self.name))\n",
    "        \n",
    "        # Assign module's trainable weights to model\n",
    "        self.trainable_weights += K.tf.trainable_variables(scope=\"^{}_module/.*\".format(self.name))\n",
    "        \n",
    "        super(ELMo, self).build(input_shape)\n",
    "\n",
    "    def call(self, x, mask=None):\n",
    "        result = self.elmo(K.squeeze(K.cast(x, tf.string), axis=1),\n",
    "                           as_dict=True,\n",
    "                           signature='default',\n",
    "                           )[self.module_output]\n",
    "        return result\n",
    "\n",
    "    def compute_mask(self, inputs, mask=None):\n",
    "        return None\n",
    "\n",
    "    def compute_output_shape(self, input_shape):\n",
    "        return input_shape[0], input_shape[0], 1024"
   ]
  },
  {
   "cell_type": "code",
   "execution_count": null,
   "metadata": {
    "colab": {
     "base_uri": "https://localhost:8080/"
    },
    "id": "GJDiXYTIFw0z",
    "outputId": "14429709-2b37-407c-d651-f5601587ba37"
   },
   "outputs": [
    {
     "name": "stdout",
     "output_type": "stream",
     "text": [
      "INFO:tensorflow:Saver not created because there are no variables in the graph to restore\n"
     ]
    },
    {
     "name": "stderr",
     "output_type": "stream",
     "text": [
      "INFO:tensorflow:Saver not created because there are no variables in the graph to restore\n"
     ]
    },
    {
     "name": "stdout",
     "output_type": "stream",
     "text": [
      "______________________________________________________________________________________________________________\n",
      "Layer (type)                                     Output Shape                                Param #          \n",
      "==============================================================================================================\n",
      "input_6 (InputLayer)                             (None, 1)                                   0                \n",
      "______________________________________________________________________________________________________________\n",
      "el_mo_6 (ELMo)                                   (None, None, 1024)                          4                \n",
      "______________________________________________________________________________________________________________\n",
      "bidirectional_4 (Bidirectional)                  (None, 600)                                 2385000          \n",
      "______________________________________________________________________________________________________________\n",
      "dropout_7 (Dropout)                              (None, 600)                                 0                \n",
      "______________________________________________________________________________________________________________\n",
      "dense_7 (Dense)                                  (None, 64)                                  38464            \n",
      "______________________________________________________________________________________________________________\n",
      "dropout_8 (Dropout)                              (None, 64)                                  0                \n",
      "______________________________________________________________________________________________________________\n",
      "dense_8 (Dense)                                  (None, 3)                                   195              \n",
      "==============================================================================================================\n",
      "Total params: 2,423,663\n",
      "Trainable params: 2,423,663\n",
      "Non-trainable params: 0\n",
      "______________________________________________________________________________________________________________\n",
      "None\n"
     ]
    }
   ],
   "source": [
    "from keras.models import Model\n",
    "from keras.layers import Input, Embedding, Dropout, Bidirectional,  GRU\n",
    "from keras.layers import Dense, TimeDistributed, concatenate\n",
    "\n",
    "GRU_SIZE = 300\n",
    "DENSE = 64\n",
    "\n",
    "# And the strig as it is...\n",
    "elmo_inputs = Input(shape=(1,), dtype='string')\n",
    "\n",
    "# ELMo embeddings as weighted sum across layers --> ['elmo'] module output\n",
    "elmo_embeddings = ELMo()(elmo_inputs)\n",
    "\n",
    "# Define an RNN (Biderectional) with LSTM cells\n",
    "bilstm = Bidirectional(GRU(units=GRU_SIZE, return_sequences=False, recurrent_dropout = 0.33))(elmo_embeddings)\n",
    "\n",
    "# Apply Dropout to the bilstm representation\n",
    "drop_encodings = Dropout(0.33)(bilstm)\n",
    "\n",
    "# Pass through a Dense Layer\n",
    "hidden = Dense(units=DENSE, activation=\"relu\")(drop_encodings)\n",
    "\n",
    "# Apply Dropout to the output of the Dense Layer\n",
    "drop_out = Dropout(0.33)(hidden)\n",
    "\n",
    "# Last pass through a Dense Layer with softmax activation to produce a probability distribution\n",
    "out = Dense(units=3, activation=\"softmax\")(drop_out)\n",
    "\n",
    "# Wrap model --> Remember Functional API\n",
    "model = Model(inputs=elmo_inputs, outputs=out)\n",
    "\n",
    "model.compile(loss='categorical_crossentropy',\n",
    "                 optimizer='adam',\n",
    "                 metrics=[\"accuracy\"])\n",
    "# Print topology\n",
    "print(model.summary(110))"
   ]
  },
  {
   "cell_type": "markdown",
   "metadata": {
    "id": "SOKbKzdJeSEY"
   },
   "source": [
    "## Fitting"
   ]
  },
  {
   "cell_type": "code",
   "execution_count": null,
   "metadata": {
    "colab": {
     "base_uri": "https://localhost:8080/"
    },
    "id": "QLP-yCKWG6nV",
    "outputId": "b67058cb-f359-4eeb-aac1-2b2031b41662"
   },
   "outputs": [
    {
     "name": "stdout",
     "output_type": "stream",
     "text": [
      "Train on 9955 samples, validate on 2489 samples\n",
      "Epoch 1/30\n",
      "9955/9955 [==============================] - 2056s 206ms/step - loss: 0.4978 - acc: 0.8045 - val_loss: 0.4750 - val_acc: 0.8092\n",
      "Epoch 2/30\n",
      "9955/9955 [==============================] - 2071s 208ms/step - loss: 0.4411 - acc: 0.8226 - val_loss: 0.5152 - val_acc: 0.8140\n",
      "Epoch 3/30\n",
      "9955/9955 [==============================] - 2092s 210ms/step - loss: 0.3837 - acc: 0.8465 - val_loss: 0.4549 - val_acc: 0.8184\n",
      "Epoch 4/30\n",
      "9955/9955 [==============================] - 2075s 208ms/step - loss: 0.3370 - acc: 0.8721 - val_loss: 0.4640 - val_acc: 0.8264\n",
      "Epoch 5/30\n",
      "9955/9955 [==============================] - 2053s 206ms/step - loss: 0.2639 - acc: 0.8985 - val_loss: 0.5257 - val_acc: 0.8067\n",
      "Epoch 6/30\n",
      "9955/9955 [==============================] - 2054s 206ms/step - loss: 0.2075 - acc: 0.9195 - val_loss: 0.5798 - val_acc: 0.8184\n",
      "Epoch 7/30\n",
      "9955/9955 [==============================] - 2095s 210ms/step - loss: 0.1655 - acc: 0.9384 - val_loss: 0.6098 - val_acc: 0.8144\n",
      "Epoch 8/30\n",
      "9955/9955 [==============================] - 2110s 212ms/step - loss: 0.1208 - acc: 0.9563 - val_loss: 0.7813 - val_acc: 0.8035\n"
     ]
    }
   ],
   "source": [
    "history = model.fit(\n",
    "    train['cleaned_text'], y_train,\n",
    "    epochs=30,\n",
    "    validation_data=(validation['cleaned_text'], y_val),\n",
    "    batch_size=256,\n",
    "    callbacks=[\n",
    "        EarlyStopping(monitor='val_loss', patience=5, restore_best_weights=True, mode='min')\n",
    "    ]\n",
    ")"
   ]
  },
  {
   "cell_type": "code",
   "execution_count": null,
   "metadata": {
    "colab": {
     "base_uri": "https://localhost:8080/",
     "height": 309
    },
    "id": "ladB2GlzK5FD",
    "outputId": "4f026932-baf3-4ce8-e21f-d5fd63693dbd"
   },
   "outputs": [
    {
     "data": {
      "image/png": "[encoded data removed]",
      "text/plain": [
       "<Figure size 432x288 with 1 Axes>"
      ]
     },
     "metadata": {
      "needs_background": "light",
      "tags": []
     },
     "output_type": "display_data"
    }
   ],
   "source": [
    "from matplotlib import pyplot as plt\n",
    "plt.plot(history.history['loss'])\n",
    "plt.plot(history.history['val_loss'])\n",
    "plt.title('Trainable Embeddings MLP  Loss')\n",
    "plt.ylabel('loss')\n",
    "plt.xlabel('epoch')\n",
    "plt.legend(['train', 'validation'], loc='upper right')\n",
    "plt.show()"
   ]
  },
  {
   "cell_type": "markdown",
   "metadata": {
    "id": "6f2aFqQRc3R4"
   },
   "source": [
    "Save the model and zip it."
   ]
  },
  {
   "cell_type": "code",
   "execution_count": null,
   "metadata": {
    "id": "PApe9zWcc3R-"
   },
   "outputs": [],
   "source": [
    "model.save_weights('elmo_bigru_weights.h5')"
   ]
  },
  {
   "cell_type": "code",
   "execution_count": null,
   "metadata": {
    "colab": {
     "base_uri": "https://localhost:8080/"
    },
    "id": "Dq7v99ujc3R_",
    "outputId": "28ec5e64-4494-4a29-e380-f27c41475b03"
   },
   "outputs": [
    {
     "name": "stdout",
     "output_type": "stream",
     "text": [
      "  adding: elmo_bigru.h5 (deflated 7%)\n"
     ]
    }
   ],
   "source": [
    "!zip -r elmo_bigru.zip elmo_bigru.h5"
   ]
  },
  {
   "cell_type": "markdown",
   "metadata": {
    "id": "DKeWO9NCc3SA"
   },
   "source": [
    "Unzip the model and load it into colab."
   ]
  },
  {
   "cell_type": "code",
   "execution_count": null,
   "metadata": {
    "colab": {
     "base_uri": "https://localhost:8080/"
    },
    "id": "dMOo3gnNc3SA",
    "outputId": "c3933e8e-084f-4ee3-f950-8caebeafb7ca"
   },
   "outputs": [
    {
     "name": "stdout",
     "output_type": "stream",
     "text": [
      "Archive:  elmo_bigru.zip\n",
      "replace elmo_bigru.hd5? [y]es, [n]o, [A]ll, [N]one, [r]ename: A\n",
      "  inflating: elmo_bigru.hd5          \n"
     ]
    }
   ],
   "source": [
    "!unzip elmo_bigru.zip"
   ]
  },
  {
   "cell_type": "code",
   "execution_count": null,
   "metadata": {
    "id": "iqUAXyb7iy2Q"
   },
   "outputs": [],
   "source": [
    "elmo_predictions_train = pd.read_csv('elmo_predictions_train.csv', header=None, dtype=int)\n",
    "elmo_predictions_validation = pd.read_csv('elmo_predictions_validation.csv', header=None, dtype=int)\n",
    "elmo_predictions_test = pd.read_csv('elmo_predictions_test.csv', header=None, dtype=int)"
   ]
  },
  {
   "cell_type": "markdown",
   "metadata": {
    "id": "MJ7D9DjZeWUG"
   },
   "source": [
    "## Results"
   ]
  },
  {
   "cell_type": "code",
   "execution_count": null,
   "metadata": {
    "colab": {
     "base_uri": "https://localhost:8080/",
     "height": 212
    },
    "id": "PjqdteHjbRhs",
    "outputId": "be8c0be0-2525-455d-ff08-c766164ef2f0"
   },
   "outputs": [
    {
     "data": {
      "image/png": "[encoded data removed]",
      "text/plain": [
       "<Figure size 1008x252 with 3 Axes>"
      ]
     },
     "metadata": {
      "needs_background": "light",
      "tags": []
     },
     "output_type": "display_data"
    }
   ],
   "source": [
    "res_elmo = pd.DataFrame(\n",
    "    evaluation(elmo_predictions_train, train.airline_sentiment_label, 'train') \\\n",
    "    + evaluation(elmo_predictions_validation, validation.airline_sentiment_label, 'val') \\\n",
    "    + evaluation(elmo_predictions_test, test.airline_sentiment_label, 'test') \\\n",
    "   ,columns = ['negative', 'neutral', 'positive', 'set', 'metric']\n",
    ")\n",
    "\n",
    "res_elmo = pd.melt(res_elmo, id_vars = ['set','metric'], value_vars=['negative','neutral','positive'], var_name='class', value_name='score')\n",
    "clf_plot_evaluation(res_elmo, 'Bidirectional GRU with Elmo embeddings')"
   ]
  },
  {
   "cell_type": "code",
   "execution_count": null,
   "metadata": {
    "colab": {
     "base_uri": "https://localhost:8080/",
     "height": 167
    },
    "id": "xtmuLjKpYQsz",
    "outputId": "c82b4c59-df90-4c34-8c25-c9fbbee9358e"
   },
   "outputs": [
    {
     "data": {
      "text/html": [
       "<div>\n",
       "<style scoped>\n",
       "    .dataframe tbody tr th:only-of-type {\n",
       "        vertical-align: middle;\n",
       "    }\n",
       "\n",
       "    .dataframe tbody tr th {\n",
       "        vertical-align: top;\n",
       "    }\n",
       "\n",
       "    .dataframe thead th {\n",
       "        text-align: right;\n",
       "    }\n",
       "</style>\n",
       "<table border=\"1\" class=\"dataframe\">\n",
       "  <thead>\n",
       "    <tr style=\"text-align: right;\">\n",
       "      <th></th>\n",
       "      <th>negative</th>\n",
       "      <th>neutral</th>\n",
       "      <th>positive</th>\n",
       "      <th>accuracy</th>\n",
       "      <th>macro avg</th>\n",
       "      <th>weighted avg</th>\n",
       "    </tr>\n",
       "  </thead>\n",
       "  <tbody>\n",
       "    <tr>\n",
       "      <th>precision</th>\n",
       "      <td>0.920058</td>\n",
       "      <td>0.531183</td>\n",
       "      <td>0.797183</td>\n",
       "      <td>0.817851</td>\n",
       "      <td>0.749475</td>\n",
       "      <td>0.838550</td>\n",
       "    </tr>\n",
       "    <tr>\n",
       "      <th>recall</th>\n",
       "      <td>0.860639</td>\n",
       "      <td>0.730769</td>\n",
       "      <td>0.731266</td>\n",
       "      <td>0.817851</td>\n",
       "      <td>0.774225</td>\n",
       "      <td>0.817851</td>\n",
       "    </tr>\n",
       "    <tr>\n",
       "      <th>f1-score</th>\n",
       "      <td>0.889357</td>\n",
       "      <td>0.615193</td>\n",
       "      <td>0.762803</td>\n",
       "      <td>0.817851</td>\n",
       "      <td>0.755784</td>\n",
       "      <td>0.824856</td>\n",
       "    </tr>\n",
       "    <tr>\n",
       "      <th>support</th>\n",
       "      <td>1471.000000</td>\n",
       "      <td>338.000000</td>\n",
       "      <td>387.000000</td>\n",
       "      <td>0.817851</td>\n",
       "      <td>2196.000000</td>\n",
       "      <td>2196.000000</td>\n",
       "    </tr>\n",
       "  </tbody>\n",
       "</table>\n",
       "</div>"
      ],
      "text/plain": [
       "              negative     neutral  ...    macro avg  weighted avg\n",
       "precision     0.920058    0.531183  ...     0.749475      0.838550\n",
       "recall        0.860639    0.730769  ...     0.774225      0.817851\n",
       "f1-score      0.889357    0.615193  ...     0.755784      0.824856\n",
       "support    1471.000000  338.000000  ...  2196.000000   2196.000000\n",
       "\n",
       "[4 rows x 6 columns]"
      ]
     },
     "execution_count": 61,
     "metadata": {
      "tags": []
     },
     "output_type": "execute_result"
    }
   ],
   "source": [
    "cr_elmo = classification_report(elmo_predictions_test, test.airline_sentiment_label, output_dict=True, target_names=['negative', 'neutral', 'positive'])\n",
    "pd.DataFrame(cr_elmo)"
   ]
  },
  {
   "cell_type": "markdown",
   "metadata": {
    "id": "fhM2yoMb_RCp"
   },
   "source": [
    "# Classifiers Comparison"
   ]
  },
  {
   "cell_type": "code",
   "execution_count": null,
   "metadata": {
    "colab": {
     "base_uri": "https://localhost:8080/"
    },
    "id": "9hExlDpt_TbI",
    "outputId": "36d88c2a-dd68-46c7-a7d7-d309d595d977"
   },
   "outputs": [
    {
     "name": "stderr",
     "output_type": "stream",
     "text": [
      "/usr/local/lib/python3.7/dist-packages/sklearn/metrics/_classification.py:1272: UndefinedMetricWarning: Precision is ill-defined and being set to 0.0 in labels with no predicted samples. Use `zero_division` parameter to control this behavior.\n",
      "  _warn_prf(average, modifier, msg_start, len(result))\n"
     ]
    }
   ],
   "source": [
    "from sklearn.metrics import f1_score, precision_score, recall_score\n",
    "\n",
    "dummy = DummyClassifier(strategy='most_frequent')\n",
    "dummy.fit(X_train, train.airline_sentiment_label)            \n",
    "\n",
    "def calc_metrics(clf_name, y, predictions , set_type):\n",
    "    metrics = [precision_score, recall_score, f1_score]\n",
    "    metric_names = ['precision', 'recall', 'f1_score']\n",
    "    res = []\n",
    "    for metric, metric_name in zip(metrics, metric_names):\n",
    "        score = metric(predictions, y, average='macro')\n",
    "        res.append((clf_name, set_type, metric_name, score))\n",
    "    return res\n",
    "\n",
    "\n",
    "\n",
    "dummy_metrics_train = calc_metrics('dummy', dummy.predict(X_train), train.airline_sentiment_label, 'train')\n",
    "dummy_metrics_val = calc_metrics('dummy', dummy.predict(X_val), validation.airline_sentiment_label, 'validation')\n",
    "dummy_metrics_test = calc_metrics('dummy', dummy.predict(X_test), test.airline_sentiment_label, 'test')\n",
    "\n",
    "lr_metrics_train = calc_metrics('Log Reg', lr.predict(X_train), train.airline_sentiment_label, 'train')\n",
    "lr_metrics_val = calc_metrics('Log Reg', lr.predict(X_val), validation.airline_sentiment_label, 'validation')\n",
    "lr_metrics_test = calc_metrics('Log Reg', lr.predict(X_test), test.airline_sentiment_label, 'test')\n",
    "\n",
    "te_metrics_train = calc_metrics('Tr/ble Emb MLP', np.argmax(mlp_trainable.predict(train_padded_docs_mlp), 1), train.airline_sentiment_label, 'train')\n",
    "te_metrics_val = calc_metrics('Tr/ble Emb MLP', np.argmax(mlp_trainable.predict(val_padded_docs_mlp), 1), validation.airline_sentiment_label, 'validation')\n",
    "te_metrics_test = calc_metrics('Tr/ble Emb MLP', np.argmax(mlp_trainable.predict(test_padded_docs_mlp), 1), test.airline_sentiment_label, 'test')\n",
    "\n",
    "bigru_da_metrics_train = calc_metrics('BiGRU-DA', np.argmax(bidirerctional_deep_attention.predict(train_padded_docs), 1), train.airline_sentiment_label, 'train')\n",
    "bigru_da_metrics_val = calc_metrics('BiGRU-DA', np.argmax(bidirerctional_deep_attention.predict(val_padded_docs), 1), validation.airline_sentiment_label, 'validation')\n",
    "bigru_da_metrics_test = calc_metrics('BiGRU-DA', np.argmax(bidirerctional_deep_attention.predict(test_padded_docs), 1), test.airline_sentiment_label, 'test')\n",
    "\n",
    "elmo_metrics_train = calc_metrics('ELMO-BiGRU', elmo_predictions_train, train.airline_sentiment_label, 'train')\n",
    "elmo_metrics_val = calc_metrics('ELMO-BiGRU', elmo_predictions_validation, validation.airline_sentiment_label, 'validation')\n",
    "elmo_metrics_test = calc_metrics('ELMO-BiGRU', elmo_predictions_test, test.airline_sentiment_label, 'test')"
   ]
  },
  {
   "cell_type": "code",
   "execution_count": null,
   "metadata": {
    "colab": {
     "base_uri": "https://localhost:8080/",
     "height": 317
    },
    "id": "HScjz2enGt3j",
    "outputId": "817ca2a3-a362-433e-857f-1eca99315622"
   },
   "outputs": [
    {
     "data": {
      "image/png": "[encoded data removed]",
      "text/plain": [
       "<Figure size 1008x360 with 3 Axes>"
      ]
     },
     "metadata": {
      "needs_background": "light",
      "tags": []
     },
     "output_type": "display_data"
    }
   ],
   "source": [
    "classifiers_comparison = pd.DataFrame(\n",
    "    dummy_metrics_train\n",
    "    +dummy_metrics_val\n",
    "    +dummy_metrics_test\n",
    "    +lr_metrics_train\n",
    "    +lr_metrics_val\n",
    "    +lr_metrics_test\n",
    "    +te_metrics_train\n",
    "    +te_metrics_val\n",
    "    +te_metrics_test\n",
    "    +bigru_da_metrics_train\n",
    "    +bigru_da_metrics_val\n",
    "    +bigru_da_metrics_test\n",
    "    +elmo_metrics_train\n",
    "    +elmo_metrics_val\n",
    "    +elmo_metrics_test\n",
    "    ,columns = ['classifier', 'set', 'metric', 'score']\n",
    ")\n",
    "\n",
    "\n",
    "fig, axs = plt.subplots(1, 3, figsize=(14,5), sharey=True)\n",
    "fig.subplots_adjust(top=0.8, wspace=0.1)\n",
    "\n",
    "sns.barplot(x='classifier', y='score', hue='set', data=classifiers_comparison[classifiers_comparison.metric=='precision'], ax=axs[0])\n",
    "axs[0].title.set_text('Precision')\n",
    "axs[0].set_xticklabels(axs[0].get_xticklabels(),rotation=30)\n",
    "\n",
    "sns.barplot(x='classifier', y='score', hue='set', data=classifiers_comparison[classifiers_comparison.metric=='recall'], ax=axs[1])\n",
    "axs[1].title.set_text('Recall')\n",
    "axs[1].set_ylabel('')\n",
    "axs[1].set_xticklabels(axs[1].get_xticklabels(),rotation=30)\n",
    "\n",
    "sns.barplot(x='classifier', y='score', hue='set', data=classifiers_comparison[classifiers_comparison.metric=='f1_score'], ax=axs[2])\n",
    "axs[2].title.set_text('f1')\n",
    "axs[2].set_ylabel('')\n",
    "axs[2].set_xticklabels(axs[2].get_xticklabels(),rotation=30)\n",
    "\n",
    "handles, labels = axs[0].get_legend_handles_labels()\n",
    "axs[0].legend(handles[:0], labels[:0]) \n",
    "axs[1].legend(handles[:0], labels[:0])\n",
    "axs[2].legend(handles[:0], labels[:0]) \n",
    "fig.legend(handles, labels, loc='upper right', fontsize='small')\n",
    "\n",
    "plt.suptitle('Classifiers Macro-comparison')\n",
    "plt.show()"
   ]
  },
  {
   "cell_type": "code",
   "execution_count": null,
   "metadata": {
    "colab": {
     "base_uri": "https://localhost:8080/",
     "height": 197
    },
    "id": "zHWcvWUPIR1o",
    "outputId": "cb905437-62e1-4320-f0a5-722755a6e79d"
   },
   "outputs": [
    {
     "data": {
      "text/html": [
       "<div>\n",
       "<style scoped>\n",
       "    .dataframe tbody tr th:only-of-type {\n",
       "        vertical-align: middle;\n",
       "    }\n",
       "\n",
       "    .dataframe tbody tr th {\n",
       "        vertical-align: top;\n",
       "    }\n",
       "\n",
       "    .dataframe thead th {\n",
       "        text-align: right;\n",
       "    }\n",
       "</style>\n",
       "<table border=\"1\" class=\"dataframe\">\n",
       "  <thead>\n",
       "    <tr style=\"text-align: right;\">\n",
       "      <th></th>\n",
       "      <th>classifier</th>\n",
       "      <th>set</th>\n",
       "      <th>metric</th>\n",
       "      <th>score</th>\n",
       "    </tr>\n",
       "  </thead>\n",
       "  <tbody>\n",
       "    <tr>\n",
       "      <th>8</th>\n",
       "      <td>dummy</td>\n",
       "      <td>test</td>\n",
       "      <td>f1_score</td>\n",
       "      <td>0.256812</td>\n",
       "    </tr>\n",
       "    <tr>\n",
       "      <th>17</th>\n",
       "      <td>Log Reg</td>\n",
       "      <td>test</td>\n",
       "      <td>f1_score</td>\n",
       "      <td>0.699814</td>\n",
       "    </tr>\n",
       "    <tr>\n",
       "      <th>26</th>\n",
       "      <td>Tr/ble Emb MLP</td>\n",
       "      <td>test</td>\n",
       "      <td>f1_score</td>\n",
       "      <td>0.726518</td>\n",
       "    </tr>\n",
       "    <tr>\n",
       "      <th>35</th>\n",
       "      <td>BiGRU-DA</td>\n",
       "      <td>test</td>\n",
       "      <td>f1_score</td>\n",
       "      <td>0.746592</td>\n",
       "    </tr>\n",
       "    <tr>\n",
       "      <th>44</th>\n",
       "      <td>ELMO-BiGRU</td>\n",
       "      <td>test</td>\n",
       "      <td>f1_score</td>\n",
       "      <td>0.755784</td>\n",
       "    </tr>\n",
       "  </tbody>\n",
       "</table>\n",
       "</div>"
      ],
      "text/plain": [
       "        classifier   set    metric     score\n",
       "8            dummy  test  f1_score  0.256812\n",
       "17         Log Reg  test  f1_score  0.699814\n",
       "26  Tr/ble Emb MLP  test  f1_score  0.726518\n",
       "35        BiGRU-DA  test  f1_score  0.746592\n",
       "44      ELMO-BiGRU  test  f1_score  0.755784"
      ]
     },
     "execution_count": 85,
     "metadata": {
      "tags": []
     },
     "output_type": "execute_result"
    }
   ],
   "source": [
    "classifiers_comparison[(classifiers_comparison['set']=='test') & (classifiers_comparison['metric']=='f1_score')]"
   ]
  },
  {
   "cell_type": "markdown",
   "metadata": {
    "id": "h7ed4BokIqW1"
   },
   "source": [
    "# Spacy - Optional"
   ]
  },
  {
   "cell_type": "code",
   "execution_count": null,
   "metadata": {
    "id": "65b5A6F9Iyxr"
   },
   "outputs": [],
   "source": [
    "!pip install -U spacy"
   ]
  },
  {
   "cell_type": "code",
   "execution_count": null,
   "metadata": {
    "id": "WLg9zR2ZKwXR"
   },
   "outputs": [],
   "source": [
    "!pip install -U pip setuptools wheel"
   ]
  },
  {
   "cell_type": "code",
   "execution_count": null,
   "metadata": {
    "colab": {
     "base_uri": "https://localhost:8080/"
    },
    "id": "B8UG5YoLLOCi",
    "outputId": "bba4cb09-2558-4d9f-b200-32148a8f4ea4"
   },
   "outputs": [
    {
     "name": "stdout",
     "output_type": "stream",
     "text": [
      "2021-03-25 18:05:15.710387: I tensorflow/stream_executor/platform/default/dso_loader.cc:49] Successfully opened dynamic library libcudart.so.11.0\n",
      "Collecting en-core-web-lg==3.0.0\n",
      "  Downloading https://github.com/explosion/spacy-models/releases/download/en_core_web_lg-3.0.0/en_core_web_lg-3.0.0-py3-none-any.whl (778.8 MB)\n",
      "\u001b[K     |████████████████████████████████| 778.8 MB 19 kB/s \n",
      "\u001b[?25hRequirement already satisfied: spacy<3.1.0,>=3.0.0 in /usr/local/lib/python3.7/dist-packages (from en-core-web-lg==3.0.0) (3.0.5)\n",
      "Requirement already satisfied: numpy>=1.15.0 in /usr/local/lib/python3.7/dist-packages (from spacy<3.1.0,>=3.0.0->en-core-web-lg==3.0.0) (1.19.5)\n",
      "Requirement already satisfied: murmurhash<1.1.0,>=0.28.0 in /usr/local/lib/python3.7/dist-packages (from spacy<3.1.0,>=3.0.0->en-core-web-lg==3.0.0) (1.0.5)\n",
      "Requirement already satisfied: tqdm<5.0.0,>=4.38.0 in /usr/local/lib/python3.7/dist-packages (from spacy<3.1.0,>=3.0.0->en-core-web-lg==3.0.0) (4.41.1)\n",
      "Requirement already satisfied: wasabi<1.1.0,>=0.8.1 in /usr/local/lib/python3.7/dist-packages (from spacy<3.1.0,>=3.0.0->en-core-web-lg==3.0.0) (0.8.2)\n",
      "Requirement already satisfied: requests<3.0.0,>=2.13.0 in /usr/local/lib/python3.7/dist-packages (from spacy<3.1.0,>=3.0.0->en-core-web-lg==3.0.0) (2.23.0)\n",
      "Requirement already satisfied: pathy>=0.3.5 in /usr/local/lib/python3.7/dist-packages (from spacy<3.1.0,>=3.0.0->en-core-web-lg==3.0.0) (0.4.0)\n",
      "Requirement already satisfied: packaging>=20.0 in /usr/local/lib/python3.7/dist-packages (from spacy<3.1.0,>=3.0.0->en-core-web-lg==3.0.0) (20.9)\n",
      "Requirement already satisfied: preshed<3.1.0,>=3.0.2 in /usr/local/lib/python3.7/dist-packages (from spacy<3.1.0,>=3.0.0->en-core-web-lg==3.0.0) (3.0.5)\n",
      "Requirement already satisfied: spacy-legacy<3.1.0,>=3.0.0 in /usr/local/lib/python3.7/dist-packages (from spacy<3.1.0,>=3.0.0->en-core-web-lg==3.0.0) (3.0.1)\n",
      "Requirement already satisfied: pydantic<1.8.0,>=1.7.1 in /usr/local/lib/python3.7/dist-packages (from spacy<3.1.0,>=3.0.0->en-core-web-lg==3.0.0) (1.7.3)\n",
      "Requirement already satisfied: setuptools in /usr/local/lib/python3.7/dist-packages (from spacy<3.1.0,>=3.0.0->en-core-web-lg==3.0.0) (54.2.0)\n",
      "Requirement already satisfied: thinc<8.1.0,>=8.0.2 in /usr/local/lib/python3.7/dist-packages (from spacy<3.1.0,>=3.0.0->en-core-web-lg==3.0.0) (8.0.2)\n",
      "Requirement already satisfied: typing-extensions<4.0.0.0,>=3.7.4 in /usr/local/lib/python3.7/dist-packages (from spacy<3.1.0,>=3.0.0->en-core-web-lg==3.0.0) (3.7.4.3)\n",
      "Requirement already satisfied: blis<0.8.0,>=0.4.0 in /usr/local/lib/python3.7/dist-packages (from spacy<3.1.0,>=3.0.0->en-core-web-lg==3.0.0) (0.4.1)\n",
      "Requirement already satisfied: importlib-metadata>=0.20 in /usr/local/lib/python3.7/dist-packages (from spacy<3.1.0,>=3.0.0->en-core-web-lg==3.0.0) (3.7.2)\n",
      "Requirement already satisfied: cymem<2.1.0,>=2.0.2 in /usr/local/lib/python3.7/dist-packages (from spacy<3.1.0,>=3.0.0->en-core-web-lg==3.0.0) (2.0.5)\n",
      "Requirement already satisfied: typer<0.4.0,>=0.3.0 in /usr/local/lib/python3.7/dist-packages (from spacy<3.1.0,>=3.0.0->en-core-web-lg==3.0.0) (0.3.2)\n",
      "Requirement already satisfied: catalogue<2.1.0,>=2.0.1 in /usr/local/lib/python3.7/dist-packages (from spacy<3.1.0,>=3.0.0->en-core-web-lg==3.0.0) (2.0.1)\n",
      "Requirement already satisfied: jinja2 in /usr/local/lib/python3.7/dist-packages (from spacy<3.1.0,>=3.0.0->en-core-web-lg==3.0.0) (2.11.3)\n",
      "Requirement already satisfied: srsly<3.0.0,>=2.4.0 in /usr/local/lib/python3.7/dist-packages (from spacy<3.1.0,>=3.0.0->en-core-web-lg==3.0.0) (2.4.0)\n",
      "Requirement already satisfied: zipp>=0.5 in /usr/local/lib/python3.7/dist-packages (from importlib-metadata>=0.20->spacy<3.1.0,>=3.0.0->en-core-web-lg==3.0.0) (3.4.1)\n",
      "Requirement already satisfied: pyparsing>=2.0.2 in /usr/local/lib/python3.7/dist-packages (from packaging>=20.0->spacy<3.1.0,>=3.0.0->en-core-web-lg==3.0.0) (2.4.7)\n",
      "Requirement already satisfied: smart-open<4.0.0,>=2.2.0 in /usr/local/lib/python3.7/dist-packages (from pathy>=0.3.5->spacy<3.1.0,>=3.0.0->en-core-web-lg==3.0.0) (3.0.0)\n",
      "Requirement already satisfied: idna<3,>=2.5 in /usr/local/lib/python3.7/dist-packages (from requests<3.0.0,>=2.13.0->spacy<3.1.0,>=3.0.0->en-core-web-lg==3.0.0) (2.10)\n",
      "Requirement already satisfied: certifi>=2017.4.17 in /usr/local/lib/python3.7/dist-packages (from requests<3.0.0,>=2.13.0->spacy<3.1.0,>=3.0.0->en-core-web-lg==3.0.0) (2020.12.5)\n",
      "Requirement already satisfied: chardet<4,>=3.0.2 in /usr/local/lib/python3.7/dist-packages (from requests<3.0.0,>=2.13.0->spacy<3.1.0,>=3.0.0->en-core-web-lg==3.0.0) (3.0.4)\n",
      "Requirement already satisfied: urllib3!=1.25.0,!=1.25.1,<1.26,>=1.21.1 in /usr/local/lib/python3.7/dist-packages (from requests<3.0.0,>=2.13.0->spacy<3.1.0,>=3.0.0->en-core-web-lg==3.0.0) (1.24.3)\n",
      "Requirement already satisfied: click<7.2.0,>=7.1.1 in /usr/local/lib/python3.7/dist-packages (from typer<0.4.0,>=0.3.0->spacy<3.1.0,>=3.0.0->en-core-web-lg==3.0.0) (7.1.2)\n",
      "Requirement already satisfied: MarkupSafe>=0.23 in /usr/local/lib/python3.7/dist-packages (from jinja2->spacy<3.1.0,>=3.0.0->en-core-web-lg==3.0.0) (1.1.1)\n",
      "Installing collected packages: en-core-web-lg\n",
      "Successfully installed en-core-web-lg-3.0.0\n",
      "\u001b[38;5;2m✔ Download and installation successful\u001b[0m\n",
      "You can now load the package via spacy.load('en_core_web_lg')\n"
     ]
    }
   ],
   "source": [
    "!python -m spacy download en_core_web_lg"
   ]
  },
  {
   "cell_type": "code",
   "execution_count": null,
   "metadata": {
    "id": "K10rkmYXIpl1"
   },
   "outputs": [],
   "source": [
    "from spacy.tokens import DocBin\n",
    "from spacy.training import Example\n",
    "import spacy\n",
    "\n",
    "def spacy_format(df, filename):\n",
    "    DATA = []\n",
    "    db = DocBin()\n",
    "    for _, row in df.iterrows():\n",
    "        doc = nlp(row.cleaned_text)\n",
    "        labels = {'cats':  {'NEGATIVE':row.airline_sentiment_label_one_hot[0]\n",
    "                            ,'NEUTRAL':row.airline_sentiment_label_one_hot[1]\n",
    "                            ,'POSITIVE':row.airline_sentiment_label_one_hot[2]}\n",
    "        }\n",
    "        example = Example.from_dict(doc, labels)\n",
    "        db.add(example.reference)\n",
    "    db.to_disk(filename + \".spacy\")"
   ]
  },
  {
   "cell_type": "code",
   "execution_count": null,
   "metadata": {
    "id": "3qt3HytMM4LL"
   },
   "outputs": [],
   "source": [
    "nlp = spacy.load('en_core_web_lg')\n",
    "spacy_format(train,'train_data')\n",
    "spacy_format(validation,'validation_data')\n",
    "spacy_format(test,'test_data')"
   ]
  },
  {
   "cell_type": "code",
   "execution_count": null,
   "metadata": {
    "colab": {
     "base_uri": "https://localhost:8080/"
    },
    "id": "sLbsmlSkNCLn",
    "outputId": "80989f7d-f8f8-4da1-dac2-0a0a179dbdc2"
   },
   "outputs": [
    {
     "name": "stdout",
     "output_type": "stream",
     "text": [
      "2021-03-25 17:51:12.997550: I tensorflow/stream_executor/platform/default/dso_loader.cc:49] Successfully opened dynamic library libcudart.so.11.0\n",
      "\u001b[38;5;2m✔ Auto-filled config with all values\u001b[0m\n",
      "\u001b[38;5;2m✔ Saved config\u001b[0m\n",
      "textcat_config.cfg\n",
      "You can now add your data and train your pipeline:\n",
      "python -m spacy train textcat_config.cfg --paths.train ./train.spacy --paths.dev ./dev.spacy\n"
     ]
    }
   ],
   "source": [
    "!python -m spacy init fill-config textcat_config.cfg textcat_config.cfg"
   ]
  },
  {
   "cell_type": "code",
   "execution_count": null,
   "metadata": {
    "colab": {
     "base_uri": "https://localhost:8080/"
    },
    "id": "0QU1fTpTOC5Y",
    "outputId": "0d22d4a2-a98e-4caa-f3c8-051c5201758d"
   },
   "outputs": [
    {
     "name": "stdout",
     "output_type": "stream",
     "text": [
      "2021-03-25 22:10:27.744442: I tensorflow/stream_executor/platform/default/dso_loader.cc:49] Successfully opened dynamic library libcudart.so.11.0\n",
      "\u001b[38;5;4mℹ Using GPU: 0\u001b[0m\n",
      "\u001b[1m\n",
      "=========================== Initializing pipeline ===========================\u001b[0m\n",
      "[2021-03-25 22:10:31,923] [INFO] Set up nlp object from config\n",
      "[2021-03-25 22:10:31,933] [INFO] Pipeline: ['tok2vec', 'textcat']\n",
      "[2021-03-25 22:10:31,938] [INFO] Created vocabulary\n",
      "[2021-03-25 22:10:35,554] [INFO] Added vectors: en_core_web_lg\n",
      "[2021-03-25 22:10:35,554] [INFO] Finished initializing nlp object\n",
      "[2021-03-25 22:10:49,095] [INFO] Initialized pipeline components: ['tok2vec', 'textcat']\n",
      "\u001b[38;5;2m✔ Initialized pipeline\u001b[0m\n",
      "\u001b[1m\n",
      "============================= Training pipeline =============================\u001b[0m\n",
      "\u001b[38;5;4mℹ Pipeline: ['tok2vec', 'textcat']\u001b[0m\n",
      "\u001b[38;5;4mℹ Initial learn rate: 0.001\u001b[0m\n",
      "E    #       LOSS TOK2VEC  LOSS TEXTCAT  CATS_MACRO_F  SCORE \n",
      "---  ------  ------------  ------------  ------------  ------\n",
      "  0       0          0.00          0.04          0.00    0.00\n",
      "  0     200          0.89          3.33         45.87    0.46\n",
      "  0     400          1.51          1.92         43.72    0.44\n",
      "  0     600          2.48          1.14         60.89    0.61\n",
      "  0     800          5.64          0.68         46.09    0.46\n",
      "  0    1000          5.92          0.43         47.19    0.47\n",
      "  1    1200          8.46          0.24         66.57    0.67\n",
      "  1    1400          7.56          0.17         57.24    0.57\n",
      "  2    1600          8.33          0.09         71.20    0.71\n",
      "  2    1800          8.38          0.06         68.84    0.69\n",
      "  3    2000          8.15          0.04         72.62    0.73\n",
      "  4    2200          9.26          0.02         71.87    0.72\n",
      "  5    2400          8.35          0.01         71.34    0.71\n",
      "  6    2600         11.23          0.01         71.51    0.72\n",
      "  8    2800         12.15          0.01         71.99    0.72\n",
      "  9    3000         11.78          0.01         73.33    0.73\n",
      " 10    3200         12.89          0.01         74.74    0.75\n",
      " 11    3400         17.24          0.01         74.59    0.75\n",
      " 12    3600         17.73          0.01         73.62    0.74\n",
      " 13    3800         20.03          0.01         73.79    0.74\n",
      " 15    4000         25.34          0.01         74.13    0.74\n",
      " 16    4200         23.11          0.01         74.86    0.75\n",
      " 17    4400         25.01          0.01         74.67    0.75\n",
      " 18    4600         21.05          0.01         73.69    0.74\n",
      " 19    4800         25.88          0.00         72.85    0.73\n",
      " 20    5000         25.40          0.00         71.84    0.72\n",
      " 22    5200         28.50          0.00         74.01    0.74\n",
      " 23    5400         29.30          0.00         73.43    0.73\n",
      " 24    5600         30.94          0.00         73.22    0.73\n",
      " 25    5800         38.44          0.00         73.51    0.74\n",
      "Epoch 26:   0% 0/200 [00:00<?, ?it/s]\u001b[38;5;2m✔ Saved pipeline to output directory\u001b[0m\n",
      "text_catv1/model-last\n"
     ]
    }
   ],
   "source": [
    "!python -m spacy train textcat_config.cfg --output text_catv1 --paths.train train_data.spacy --paths.dev validation_data.spacy --gpu-id 0"
   ]
  },
  {
   "cell_type": "code",
   "execution_count": null,
   "metadata": {
    "id": "bcIajbPpPY_6"
   },
   "outputs": [],
   "source": [
    "spacy_clf = spacy.load('text_catv1/model-best')"
   ]
  },
  {
   "cell_type": "code",
   "execution_count": null,
   "metadata": {
    "id": "CTgGvO3PP8Wk"
   },
   "outputs": [],
   "source": [
    "spacy_predictions = test.cleaned_text.apply(lambda x: np.array(list(spacy_clf(x).cats.values())))\n",
    "spacy_predictions = spacy_predictions.apply(lambda x: np.argmax(x))"
   ]
  },
  {
   "cell_type": "code",
   "execution_count": null,
   "metadata": {
    "colab": {
     "base_uri": "https://localhost:8080/",
     "height": 167
    },
    "id": "t0fGzt6t3eOJ",
    "outputId": "1fbfbba8-35a9-46e6-c638-0b2876cd80bd"
   },
   "outputs": [
    {
     "data": {
      "text/html": [
       "<div>\n",
       "<style scoped>\n",
       "    .dataframe tbody tr th:only-of-type {\n",
       "        vertical-align: middle;\n",
       "    }\n",
       "\n",
       "    .dataframe tbody tr th {\n",
       "        vertical-align: top;\n",
       "    }\n",
       "\n",
       "    .dataframe thead th {\n",
       "        text-align: right;\n",
       "    }\n",
       "</style>\n",
       "<table border=\"1\" class=\"dataframe\">\n",
       "  <thead>\n",
       "    <tr style=\"text-align: right;\">\n",
       "      <th></th>\n",
       "      <th>0</th>\n",
       "      <th>1</th>\n",
       "      <th>2</th>\n",
       "      <th>accuracy</th>\n",
       "      <th>macro avg</th>\n",
       "      <th>weighted avg</th>\n",
       "    </tr>\n",
       "  </thead>\n",
       "  <tbody>\n",
       "    <tr>\n",
       "      <th>precision</th>\n",
       "      <td>0.850932</td>\n",
       "      <td>0.627078</td>\n",
       "      <td>0.773006</td>\n",
       "      <td>0.796448</td>\n",
       "      <td>0.750339</td>\n",
       "      <td>0.790934</td>\n",
       "    </tr>\n",
       "    <tr>\n",
       "      <th>recall</th>\n",
       "      <td>0.896076</td>\n",
       "      <td>0.567742</td>\n",
       "      <td>0.709859</td>\n",
       "      <td>0.796448</td>\n",
       "      <td>0.724559</td>\n",
       "      <td>0.796448</td>\n",
       "    </tr>\n",
       "    <tr>\n",
       "      <th>f1-score</th>\n",
       "      <td>0.872920</td>\n",
       "      <td>0.595937</td>\n",
       "      <td>0.740088</td>\n",
       "      <td>0.796448</td>\n",
       "      <td>0.736315</td>\n",
       "      <td>0.792796</td>\n",
       "    </tr>\n",
       "    <tr>\n",
       "      <th>support</th>\n",
       "      <td>1376.000000</td>\n",
       "      <td>465.000000</td>\n",
       "      <td>355.000000</td>\n",
       "      <td>0.796448</td>\n",
       "      <td>2196.000000</td>\n",
       "      <td>2196.000000</td>\n",
       "    </tr>\n",
       "  </tbody>\n",
       "</table>\n",
       "</div>"
      ],
      "text/plain": [
       "                     0           1  ...    macro avg  weighted avg\n",
       "precision     0.850932    0.627078  ...     0.750339      0.790934\n",
       "recall        0.896076    0.567742  ...     0.724559      0.796448\n",
       "f1-score      0.872920    0.595937  ...     0.736315      0.792796\n",
       "support    1376.000000  465.000000  ...  2196.000000   2196.000000\n",
       "\n",
       "[4 rows x 6 columns]"
      ]
     },
     "execution_count": 76,
     "metadata": {
      "tags": []
     },
     "output_type": "execute_result"
    }
   ],
   "source": [
    "from sklearn.metrics import classification_report\n",
    "pd.DataFrame(classification_report(test.airline_sentiment_label, spacy_predictions, output_dict=True))"
   ]
  }
 ],
 "metadata": {
  "colab": {
   "collapsed_sections": [],
   "name": "Text_Analytics_Assignment4_RNN.ipynb",
   "provenance": [],
   "toc_visible": true
  },
  "kernelspec": {
   "display_name": "Python 3",
   "language": "python",
   "name": "python3"
  },
  "language_info": {
   "codemirror_mode": {
    "name": "ipython",
    "version": 3
   },
   "file_extension": ".py",
   "mimetype": "text/x-python",
   "name": "python",
   "nbconvert_exporter": "python",
   "pygments_lexer": "ipython3",
   "version": "3.7.5"
  }
 },
 "nbformat": 4,
 "nbformat_minor": 1
}
